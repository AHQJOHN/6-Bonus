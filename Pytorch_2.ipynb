{
  "nbformat": 4,
  "nbformat_minor": 0,
  "metadata": {
    "colab": {
      "provenance": [],
      "authorship_tag": "ABX9TyMPFY7tEyqgO4zxg699NLz0",
      "include_colab_link": true
    },
    "kernelspec": {
      "name": "python3",
      "display_name": "Python 3"
    },
    "language_info": {
      "name": "python"
    },
    "widgets": {
      "application/vnd.jupyter.widget-state+json": {
        "cad1d2f58a014ab79b59dc5e7080b1e6": {
          "model_module": "@jupyter-widgets/controls",
          "model_name": "HBoxModel",
          "model_module_version": "1.5.0",
          "state": {
            "_dom_classes": [],
            "_model_module": "@jupyter-widgets/controls",
            "_model_module_version": "1.5.0",
            "_model_name": "HBoxModel",
            "_view_count": null,
            "_view_module": "@jupyter-widgets/controls",
            "_view_module_version": "1.5.0",
            "_view_name": "HBoxView",
            "box_style": "",
            "children": [
              "IPY_MODEL_a8dbee796baf46eeae3d61fb4063d5ad",
              "IPY_MODEL_bee50afc3b144138a35d07891cade2e1",
              "IPY_MODEL_9c8700f115204fe6b76a2c06157cc0af"
            ],
            "layout": "IPY_MODEL_c3138e3e244a487882054adca9934070"
          }
        },
        "a8dbee796baf46eeae3d61fb4063d5ad": {
          "model_module": "@jupyter-widgets/controls",
          "model_name": "HTMLModel",
          "model_module_version": "1.5.0",
          "state": {
            "_dom_classes": [],
            "_model_module": "@jupyter-widgets/controls",
            "_model_module_version": "1.5.0",
            "_model_name": "HTMLModel",
            "_view_count": null,
            "_view_module": "@jupyter-widgets/controls",
            "_view_module_version": "1.5.0",
            "_view_name": "HTMLView",
            "description": "",
            "description_tooltip": null,
            "layout": "IPY_MODEL_1d873b60cc8e4fe08d97d6e9c48e00d8",
            "placeholder": "​",
            "style": "IPY_MODEL_11eb6b28bc5944d096c554ebe8a9b780",
            "value": "100%"
          }
        },
        "bee50afc3b144138a35d07891cade2e1": {
          "model_module": "@jupyter-widgets/controls",
          "model_name": "FloatProgressModel",
          "model_module_version": "1.5.0",
          "state": {
            "_dom_classes": [],
            "_model_module": "@jupyter-widgets/controls",
            "_model_module_version": "1.5.0",
            "_model_name": "FloatProgressModel",
            "_view_count": null,
            "_view_module": "@jupyter-widgets/controls",
            "_view_module_version": "1.5.0",
            "_view_name": "ProgressView",
            "bar_style": "success",
            "description": "",
            "description_tooltip": null,
            "layout": "IPY_MODEL_a70b0ffc73fa4268bbfcc0220139c98a",
            "max": 9912422,
            "min": 0,
            "orientation": "horizontal",
            "style": "IPY_MODEL_7e36594b27764bfe9387a7d3035ed58a",
            "value": 9912422
          }
        },
        "9c8700f115204fe6b76a2c06157cc0af": {
          "model_module": "@jupyter-widgets/controls",
          "model_name": "HTMLModel",
          "model_module_version": "1.5.0",
          "state": {
            "_dom_classes": [],
            "_model_module": "@jupyter-widgets/controls",
            "_model_module_version": "1.5.0",
            "_model_name": "HTMLModel",
            "_view_count": null,
            "_view_module": "@jupyter-widgets/controls",
            "_view_module_version": "1.5.0",
            "_view_name": "HTMLView",
            "description": "",
            "description_tooltip": null,
            "layout": "IPY_MODEL_9041873ef2534d53bf4e5e5deda8626c",
            "placeholder": "​",
            "style": "IPY_MODEL_18ed2a2e5ab6413ea0a913d3030e740b",
            "value": " 9912422/9912422 [00:00&lt;00:00, 145289354.99it/s]"
          }
        },
        "c3138e3e244a487882054adca9934070": {
          "model_module": "@jupyter-widgets/base",
          "model_name": "LayoutModel",
          "model_module_version": "1.2.0",
          "state": {
            "_model_module": "@jupyter-widgets/base",
            "_model_module_version": "1.2.0",
            "_model_name": "LayoutModel",
            "_view_count": null,
            "_view_module": "@jupyter-widgets/base",
            "_view_module_version": "1.2.0",
            "_view_name": "LayoutView",
            "align_content": null,
            "align_items": null,
            "align_self": null,
            "border": null,
            "bottom": null,
            "display": null,
            "flex": null,
            "flex_flow": null,
            "grid_area": null,
            "grid_auto_columns": null,
            "grid_auto_flow": null,
            "grid_auto_rows": null,
            "grid_column": null,
            "grid_gap": null,
            "grid_row": null,
            "grid_template_areas": null,
            "grid_template_columns": null,
            "grid_template_rows": null,
            "height": null,
            "justify_content": null,
            "justify_items": null,
            "left": null,
            "margin": null,
            "max_height": null,
            "max_width": null,
            "min_height": null,
            "min_width": null,
            "object_fit": null,
            "object_position": null,
            "order": null,
            "overflow": null,
            "overflow_x": null,
            "overflow_y": null,
            "padding": null,
            "right": null,
            "top": null,
            "visibility": null,
            "width": null
          }
        },
        "1d873b60cc8e4fe08d97d6e9c48e00d8": {
          "model_module": "@jupyter-widgets/base",
          "model_name": "LayoutModel",
          "model_module_version": "1.2.0",
          "state": {
            "_model_module": "@jupyter-widgets/base",
            "_model_module_version": "1.2.0",
            "_model_name": "LayoutModel",
            "_view_count": null,
            "_view_module": "@jupyter-widgets/base",
            "_view_module_version": "1.2.0",
            "_view_name": "LayoutView",
            "align_content": null,
            "align_items": null,
            "align_self": null,
            "border": null,
            "bottom": null,
            "display": null,
            "flex": null,
            "flex_flow": null,
            "grid_area": null,
            "grid_auto_columns": null,
            "grid_auto_flow": null,
            "grid_auto_rows": null,
            "grid_column": null,
            "grid_gap": null,
            "grid_row": null,
            "grid_template_areas": null,
            "grid_template_columns": null,
            "grid_template_rows": null,
            "height": null,
            "justify_content": null,
            "justify_items": null,
            "left": null,
            "margin": null,
            "max_height": null,
            "max_width": null,
            "min_height": null,
            "min_width": null,
            "object_fit": null,
            "object_position": null,
            "order": null,
            "overflow": null,
            "overflow_x": null,
            "overflow_y": null,
            "padding": null,
            "right": null,
            "top": null,
            "visibility": null,
            "width": null
          }
        },
        "11eb6b28bc5944d096c554ebe8a9b780": {
          "model_module": "@jupyter-widgets/controls",
          "model_name": "DescriptionStyleModel",
          "model_module_version": "1.5.0",
          "state": {
            "_model_module": "@jupyter-widgets/controls",
            "_model_module_version": "1.5.0",
            "_model_name": "DescriptionStyleModel",
            "_view_count": null,
            "_view_module": "@jupyter-widgets/base",
            "_view_module_version": "1.2.0",
            "_view_name": "StyleView",
            "description_width": ""
          }
        },
        "a70b0ffc73fa4268bbfcc0220139c98a": {
          "model_module": "@jupyter-widgets/base",
          "model_name": "LayoutModel",
          "model_module_version": "1.2.0",
          "state": {
            "_model_module": "@jupyter-widgets/base",
            "_model_module_version": "1.2.0",
            "_model_name": "LayoutModel",
            "_view_count": null,
            "_view_module": "@jupyter-widgets/base",
            "_view_module_version": "1.2.0",
            "_view_name": "LayoutView",
            "align_content": null,
            "align_items": null,
            "align_self": null,
            "border": null,
            "bottom": null,
            "display": null,
            "flex": null,
            "flex_flow": null,
            "grid_area": null,
            "grid_auto_columns": null,
            "grid_auto_flow": null,
            "grid_auto_rows": null,
            "grid_column": null,
            "grid_gap": null,
            "grid_row": null,
            "grid_template_areas": null,
            "grid_template_columns": null,
            "grid_template_rows": null,
            "height": null,
            "justify_content": null,
            "justify_items": null,
            "left": null,
            "margin": null,
            "max_height": null,
            "max_width": null,
            "min_height": null,
            "min_width": null,
            "object_fit": null,
            "object_position": null,
            "order": null,
            "overflow": null,
            "overflow_x": null,
            "overflow_y": null,
            "padding": null,
            "right": null,
            "top": null,
            "visibility": null,
            "width": null
          }
        },
        "7e36594b27764bfe9387a7d3035ed58a": {
          "model_module": "@jupyter-widgets/controls",
          "model_name": "ProgressStyleModel",
          "model_module_version": "1.5.0",
          "state": {
            "_model_module": "@jupyter-widgets/controls",
            "_model_module_version": "1.5.0",
            "_model_name": "ProgressStyleModel",
            "_view_count": null,
            "_view_module": "@jupyter-widgets/base",
            "_view_module_version": "1.2.0",
            "_view_name": "StyleView",
            "bar_color": null,
            "description_width": ""
          }
        },
        "9041873ef2534d53bf4e5e5deda8626c": {
          "model_module": "@jupyter-widgets/base",
          "model_name": "LayoutModel",
          "model_module_version": "1.2.0",
          "state": {
            "_model_module": "@jupyter-widgets/base",
            "_model_module_version": "1.2.0",
            "_model_name": "LayoutModel",
            "_view_count": null,
            "_view_module": "@jupyter-widgets/base",
            "_view_module_version": "1.2.0",
            "_view_name": "LayoutView",
            "align_content": null,
            "align_items": null,
            "align_self": null,
            "border": null,
            "bottom": null,
            "display": null,
            "flex": null,
            "flex_flow": null,
            "grid_area": null,
            "grid_auto_columns": null,
            "grid_auto_flow": null,
            "grid_auto_rows": null,
            "grid_column": null,
            "grid_gap": null,
            "grid_row": null,
            "grid_template_areas": null,
            "grid_template_columns": null,
            "grid_template_rows": null,
            "height": null,
            "justify_content": null,
            "justify_items": null,
            "left": null,
            "margin": null,
            "max_height": null,
            "max_width": null,
            "min_height": null,
            "min_width": null,
            "object_fit": null,
            "object_position": null,
            "order": null,
            "overflow": null,
            "overflow_x": null,
            "overflow_y": null,
            "padding": null,
            "right": null,
            "top": null,
            "visibility": null,
            "width": null
          }
        },
        "18ed2a2e5ab6413ea0a913d3030e740b": {
          "model_module": "@jupyter-widgets/controls",
          "model_name": "DescriptionStyleModel",
          "model_module_version": "1.5.0",
          "state": {
            "_model_module": "@jupyter-widgets/controls",
            "_model_module_version": "1.5.0",
            "_model_name": "DescriptionStyleModel",
            "_view_count": null,
            "_view_module": "@jupyter-widgets/base",
            "_view_module_version": "1.2.0",
            "_view_name": "StyleView",
            "description_width": ""
          }
        },
        "60457f5da2ee457c9821d57610781595": {
          "model_module": "@jupyter-widgets/controls",
          "model_name": "HBoxModel",
          "model_module_version": "1.5.0",
          "state": {
            "_dom_classes": [],
            "_model_module": "@jupyter-widgets/controls",
            "_model_module_version": "1.5.0",
            "_model_name": "HBoxModel",
            "_view_count": null,
            "_view_module": "@jupyter-widgets/controls",
            "_view_module_version": "1.5.0",
            "_view_name": "HBoxView",
            "box_style": "",
            "children": [
              "IPY_MODEL_9533eb8867014f2e9dea79ccf8df3073",
              "IPY_MODEL_494e6c62960d424eae5bb853f6c85fd6",
              "IPY_MODEL_314e5a07e9674209beb76756cd5929fb"
            ],
            "layout": "IPY_MODEL_f4f9fdbaa1324a07a5ffe43e5eeda0da"
          }
        },
        "9533eb8867014f2e9dea79ccf8df3073": {
          "model_module": "@jupyter-widgets/controls",
          "model_name": "HTMLModel",
          "model_module_version": "1.5.0",
          "state": {
            "_dom_classes": [],
            "_model_module": "@jupyter-widgets/controls",
            "_model_module_version": "1.5.0",
            "_model_name": "HTMLModel",
            "_view_count": null,
            "_view_module": "@jupyter-widgets/controls",
            "_view_module_version": "1.5.0",
            "_view_name": "HTMLView",
            "description": "",
            "description_tooltip": null,
            "layout": "IPY_MODEL_1c0661e722fb4caabcd7ff6b64d708a7",
            "placeholder": "​",
            "style": "IPY_MODEL_6439c35b895b4b58affa2bb4978cc855",
            "value": "100%"
          }
        },
        "494e6c62960d424eae5bb853f6c85fd6": {
          "model_module": "@jupyter-widgets/controls",
          "model_name": "FloatProgressModel",
          "model_module_version": "1.5.0",
          "state": {
            "_dom_classes": [],
            "_model_module": "@jupyter-widgets/controls",
            "_model_module_version": "1.5.0",
            "_model_name": "FloatProgressModel",
            "_view_count": null,
            "_view_module": "@jupyter-widgets/controls",
            "_view_module_version": "1.5.0",
            "_view_name": "ProgressView",
            "bar_style": "success",
            "description": "",
            "description_tooltip": null,
            "layout": "IPY_MODEL_e92187085b1d4a7283ae3d1b4fa98a03",
            "max": 28881,
            "min": 0,
            "orientation": "horizontal",
            "style": "IPY_MODEL_60e597a31d394d5d9c633fab93192137",
            "value": 28881
          }
        },
        "314e5a07e9674209beb76756cd5929fb": {
          "model_module": "@jupyter-widgets/controls",
          "model_name": "HTMLModel",
          "model_module_version": "1.5.0",
          "state": {
            "_dom_classes": [],
            "_model_module": "@jupyter-widgets/controls",
            "_model_module_version": "1.5.0",
            "_model_name": "HTMLModel",
            "_view_count": null,
            "_view_module": "@jupyter-widgets/controls",
            "_view_module_version": "1.5.0",
            "_view_name": "HTMLView",
            "description": "",
            "description_tooltip": null,
            "layout": "IPY_MODEL_cf1648a711a44fa2843262e54c21f267",
            "placeholder": "​",
            "style": "IPY_MODEL_e9617e8a4a304104af70189f8f11b74f",
            "value": " 28881/28881 [00:00&lt;00:00, 1467422.09it/s]"
          }
        },
        "f4f9fdbaa1324a07a5ffe43e5eeda0da": {
          "model_module": "@jupyter-widgets/base",
          "model_name": "LayoutModel",
          "model_module_version": "1.2.0",
          "state": {
            "_model_module": "@jupyter-widgets/base",
            "_model_module_version": "1.2.0",
            "_model_name": "LayoutModel",
            "_view_count": null,
            "_view_module": "@jupyter-widgets/base",
            "_view_module_version": "1.2.0",
            "_view_name": "LayoutView",
            "align_content": null,
            "align_items": null,
            "align_self": null,
            "border": null,
            "bottom": null,
            "display": null,
            "flex": null,
            "flex_flow": null,
            "grid_area": null,
            "grid_auto_columns": null,
            "grid_auto_flow": null,
            "grid_auto_rows": null,
            "grid_column": null,
            "grid_gap": null,
            "grid_row": null,
            "grid_template_areas": null,
            "grid_template_columns": null,
            "grid_template_rows": null,
            "height": null,
            "justify_content": null,
            "justify_items": null,
            "left": null,
            "margin": null,
            "max_height": null,
            "max_width": null,
            "min_height": null,
            "min_width": null,
            "object_fit": null,
            "object_position": null,
            "order": null,
            "overflow": null,
            "overflow_x": null,
            "overflow_y": null,
            "padding": null,
            "right": null,
            "top": null,
            "visibility": null,
            "width": null
          }
        },
        "1c0661e722fb4caabcd7ff6b64d708a7": {
          "model_module": "@jupyter-widgets/base",
          "model_name": "LayoutModel",
          "model_module_version": "1.2.0",
          "state": {
            "_model_module": "@jupyter-widgets/base",
            "_model_module_version": "1.2.0",
            "_model_name": "LayoutModel",
            "_view_count": null,
            "_view_module": "@jupyter-widgets/base",
            "_view_module_version": "1.2.0",
            "_view_name": "LayoutView",
            "align_content": null,
            "align_items": null,
            "align_self": null,
            "border": null,
            "bottom": null,
            "display": null,
            "flex": null,
            "flex_flow": null,
            "grid_area": null,
            "grid_auto_columns": null,
            "grid_auto_flow": null,
            "grid_auto_rows": null,
            "grid_column": null,
            "grid_gap": null,
            "grid_row": null,
            "grid_template_areas": null,
            "grid_template_columns": null,
            "grid_template_rows": null,
            "height": null,
            "justify_content": null,
            "justify_items": null,
            "left": null,
            "margin": null,
            "max_height": null,
            "max_width": null,
            "min_height": null,
            "min_width": null,
            "object_fit": null,
            "object_position": null,
            "order": null,
            "overflow": null,
            "overflow_x": null,
            "overflow_y": null,
            "padding": null,
            "right": null,
            "top": null,
            "visibility": null,
            "width": null
          }
        },
        "6439c35b895b4b58affa2bb4978cc855": {
          "model_module": "@jupyter-widgets/controls",
          "model_name": "DescriptionStyleModel",
          "model_module_version": "1.5.0",
          "state": {
            "_model_module": "@jupyter-widgets/controls",
            "_model_module_version": "1.5.0",
            "_model_name": "DescriptionStyleModel",
            "_view_count": null,
            "_view_module": "@jupyter-widgets/base",
            "_view_module_version": "1.2.0",
            "_view_name": "StyleView",
            "description_width": ""
          }
        },
        "e92187085b1d4a7283ae3d1b4fa98a03": {
          "model_module": "@jupyter-widgets/base",
          "model_name": "LayoutModel",
          "model_module_version": "1.2.0",
          "state": {
            "_model_module": "@jupyter-widgets/base",
            "_model_module_version": "1.2.0",
            "_model_name": "LayoutModel",
            "_view_count": null,
            "_view_module": "@jupyter-widgets/base",
            "_view_module_version": "1.2.0",
            "_view_name": "LayoutView",
            "align_content": null,
            "align_items": null,
            "align_self": null,
            "border": null,
            "bottom": null,
            "display": null,
            "flex": null,
            "flex_flow": null,
            "grid_area": null,
            "grid_auto_columns": null,
            "grid_auto_flow": null,
            "grid_auto_rows": null,
            "grid_column": null,
            "grid_gap": null,
            "grid_row": null,
            "grid_template_areas": null,
            "grid_template_columns": null,
            "grid_template_rows": null,
            "height": null,
            "justify_content": null,
            "justify_items": null,
            "left": null,
            "margin": null,
            "max_height": null,
            "max_width": null,
            "min_height": null,
            "min_width": null,
            "object_fit": null,
            "object_position": null,
            "order": null,
            "overflow": null,
            "overflow_x": null,
            "overflow_y": null,
            "padding": null,
            "right": null,
            "top": null,
            "visibility": null,
            "width": null
          }
        },
        "60e597a31d394d5d9c633fab93192137": {
          "model_module": "@jupyter-widgets/controls",
          "model_name": "ProgressStyleModel",
          "model_module_version": "1.5.0",
          "state": {
            "_model_module": "@jupyter-widgets/controls",
            "_model_module_version": "1.5.0",
            "_model_name": "ProgressStyleModel",
            "_view_count": null,
            "_view_module": "@jupyter-widgets/base",
            "_view_module_version": "1.2.0",
            "_view_name": "StyleView",
            "bar_color": null,
            "description_width": ""
          }
        },
        "cf1648a711a44fa2843262e54c21f267": {
          "model_module": "@jupyter-widgets/base",
          "model_name": "LayoutModel",
          "model_module_version": "1.2.0",
          "state": {
            "_model_module": "@jupyter-widgets/base",
            "_model_module_version": "1.2.0",
            "_model_name": "LayoutModel",
            "_view_count": null,
            "_view_module": "@jupyter-widgets/base",
            "_view_module_version": "1.2.0",
            "_view_name": "LayoutView",
            "align_content": null,
            "align_items": null,
            "align_self": null,
            "border": null,
            "bottom": null,
            "display": null,
            "flex": null,
            "flex_flow": null,
            "grid_area": null,
            "grid_auto_columns": null,
            "grid_auto_flow": null,
            "grid_auto_rows": null,
            "grid_column": null,
            "grid_gap": null,
            "grid_row": null,
            "grid_template_areas": null,
            "grid_template_columns": null,
            "grid_template_rows": null,
            "height": null,
            "justify_content": null,
            "justify_items": null,
            "left": null,
            "margin": null,
            "max_height": null,
            "max_width": null,
            "min_height": null,
            "min_width": null,
            "object_fit": null,
            "object_position": null,
            "order": null,
            "overflow": null,
            "overflow_x": null,
            "overflow_y": null,
            "padding": null,
            "right": null,
            "top": null,
            "visibility": null,
            "width": null
          }
        },
        "e9617e8a4a304104af70189f8f11b74f": {
          "model_module": "@jupyter-widgets/controls",
          "model_name": "DescriptionStyleModel",
          "model_module_version": "1.5.0",
          "state": {
            "_model_module": "@jupyter-widgets/controls",
            "_model_module_version": "1.5.0",
            "_model_name": "DescriptionStyleModel",
            "_view_count": null,
            "_view_module": "@jupyter-widgets/base",
            "_view_module_version": "1.2.0",
            "_view_name": "StyleView",
            "description_width": ""
          }
        },
        "d0299d63b1114de19cfa70f09f5056b0": {
          "model_module": "@jupyter-widgets/controls",
          "model_name": "HBoxModel",
          "model_module_version": "1.5.0",
          "state": {
            "_dom_classes": [],
            "_model_module": "@jupyter-widgets/controls",
            "_model_module_version": "1.5.0",
            "_model_name": "HBoxModel",
            "_view_count": null,
            "_view_module": "@jupyter-widgets/controls",
            "_view_module_version": "1.5.0",
            "_view_name": "HBoxView",
            "box_style": "",
            "children": [
              "IPY_MODEL_41c492ce60c645c58af31bde1cdb42cb",
              "IPY_MODEL_3d380218c3d642ab8ab958e56015c20b",
              "IPY_MODEL_3050e90274e6484fad80b374d96fe85c"
            ],
            "layout": "IPY_MODEL_1e2ca71bed4849b583536aa10c421ede"
          }
        },
        "41c492ce60c645c58af31bde1cdb42cb": {
          "model_module": "@jupyter-widgets/controls",
          "model_name": "HTMLModel",
          "model_module_version": "1.5.0",
          "state": {
            "_dom_classes": [],
            "_model_module": "@jupyter-widgets/controls",
            "_model_module_version": "1.5.0",
            "_model_name": "HTMLModel",
            "_view_count": null,
            "_view_module": "@jupyter-widgets/controls",
            "_view_module_version": "1.5.0",
            "_view_name": "HTMLView",
            "description": "",
            "description_tooltip": null,
            "layout": "IPY_MODEL_e583317af26e488f877fd13ab0df0f1e",
            "placeholder": "​",
            "style": "IPY_MODEL_e4ffa56b95aa4ce3802366418c7b5799",
            "value": "100%"
          }
        },
        "3d380218c3d642ab8ab958e56015c20b": {
          "model_module": "@jupyter-widgets/controls",
          "model_name": "FloatProgressModel",
          "model_module_version": "1.5.0",
          "state": {
            "_dom_classes": [],
            "_model_module": "@jupyter-widgets/controls",
            "_model_module_version": "1.5.0",
            "_model_name": "FloatProgressModel",
            "_view_count": null,
            "_view_module": "@jupyter-widgets/controls",
            "_view_module_version": "1.5.0",
            "_view_name": "ProgressView",
            "bar_style": "success",
            "description": "",
            "description_tooltip": null,
            "layout": "IPY_MODEL_1bf4acb792f6403b96af83288432bb92",
            "max": 1648877,
            "min": 0,
            "orientation": "horizontal",
            "style": "IPY_MODEL_b66e791812b14727b8ce3ebf725462d5",
            "value": 1648877
          }
        },
        "3050e90274e6484fad80b374d96fe85c": {
          "model_module": "@jupyter-widgets/controls",
          "model_name": "HTMLModel",
          "model_module_version": "1.5.0",
          "state": {
            "_dom_classes": [],
            "_model_module": "@jupyter-widgets/controls",
            "_model_module_version": "1.5.0",
            "_model_name": "HTMLModel",
            "_view_count": null,
            "_view_module": "@jupyter-widgets/controls",
            "_view_module_version": "1.5.0",
            "_view_name": "HTMLView",
            "description": "",
            "description_tooltip": null,
            "layout": "IPY_MODEL_e05cdbfeb9494c3ba3e1f8e5d693853f",
            "placeholder": "​",
            "style": "IPY_MODEL_97e8756d01024aa3843b98e29d966e3f",
            "value": " 1648877/1648877 [00:00&lt;00:00, 53379422.79it/s]"
          }
        },
        "1e2ca71bed4849b583536aa10c421ede": {
          "model_module": "@jupyter-widgets/base",
          "model_name": "LayoutModel",
          "model_module_version": "1.2.0",
          "state": {
            "_model_module": "@jupyter-widgets/base",
            "_model_module_version": "1.2.0",
            "_model_name": "LayoutModel",
            "_view_count": null,
            "_view_module": "@jupyter-widgets/base",
            "_view_module_version": "1.2.0",
            "_view_name": "LayoutView",
            "align_content": null,
            "align_items": null,
            "align_self": null,
            "border": null,
            "bottom": null,
            "display": null,
            "flex": null,
            "flex_flow": null,
            "grid_area": null,
            "grid_auto_columns": null,
            "grid_auto_flow": null,
            "grid_auto_rows": null,
            "grid_column": null,
            "grid_gap": null,
            "grid_row": null,
            "grid_template_areas": null,
            "grid_template_columns": null,
            "grid_template_rows": null,
            "height": null,
            "justify_content": null,
            "justify_items": null,
            "left": null,
            "margin": null,
            "max_height": null,
            "max_width": null,
            "min_height": null,
            "min_width": null,
            "object_fit": null,
            "object_position": null,
            "order": null,
            "overflow": null,
            "overflow_x": null,
            "overflow_y": null,
            "padding": null,
            "right": null,
            "top": null,
            "visibility": null,
            "width": null
          }
        },
        "e583317af26e488f877fd13ab0df0f1e": {
          "model_module": "@jupyter-widgets/base",
          "model_name": "LayoutModel",
          "model_module_version": "1.2.0",
          "state": {
            "_model_module": "@jupyter-widgets/base",
            "_model_module_version": "1.2.0",
            "_model_name": "LayoutModel",
            "_view_count": null,
            "_view_module": "@jupyter-widgets/base",
            "_view_module_version": "1.2.0",
            "_view_name": "LayoutView",
            "align_content": null,
            "align_items": null,
            "align_self": null,
            "border": null,
            "bottom": null,
            "display": null,
            "flex": null,
            "flex_flow": null,
            "grid_area": null,
            "grid_auto_columns": null,
            "grid_auto_flow": null,
            "grid_auto_rows": null,
            "grid_column": null,
            "grid_gap": null,
            "grid_row": null,
            "grid_template_areas": null,
            "grid_template_columns": null,
            "grid_template_rows": null,
            "height": null,
            "justify_content": null,
            "justify_items": null,
            "left": null,
            "margin": null,
            "max_height": null,
            "max_width": null,
            "min_height": null,
            "min_width": null,
            "object_fit": null,
            "object_position": null,
            "order": null,
            "overflow": null,
            "overflow_x": null,
            "overflow_y": null,
            "padding": null,
            "right": null,
            "top": null,
            "visibility": null,
            "width": null
          }
        },
        "e4ffa56b95aa4ce3802366418c7b5799": {
          "model_module": "@jupyter-widgets/controls",
          "model_name": "DescriptionStyleModel",
          "model_module_version": "1.5.0",
          "state": {
            "_model_module": "@jupyter-widgets/controls",
            "_model_module_version": "1.5.0",
            "_model_name": "DescriptionStyleModel",
            "_view_count": null,
            "_view_module": "@jupyter-widgets/base",
            "_view_module_version": "1.2.0",
            "_view_name": "StyleView",
            "description_width": ""
          }
        },
        "1bf4acb792f6403b96af83288432bb92": {
          "model_module": "@jupyter-widgets/base",
          "model_name": "LayoutModel",
          "model_module_version": "1.2.0",
          "state": {
            "_model_module": "@jupyter-widgets/base",
            "_model_module_version": "1.2.0",
            "_model_name": "LayoutModel",
            "_view_count": null,
            "_view_module": "@jupyter-widgets/base",
            "_view_module_version": "1.2.0",
            "_view_name": "LayoutView",
            "align_content": null,
            "align_items": null,
            "align_self": null,
            "border": null,
            "bottom": null,
            "display": null,
            "flex": null,
            "flex_flow": null,
            "grid_area": null,
            "grid_auto_columns": null,
            "grid_auto_flow": null,
            "grid_auto_rows": null,
            "grid_column": null,
            "grid_gap": null,
            "grid_row": null,
            "grid_template_areas": null,
            "grid_template_columns": null,
            "grid_template_rows": null,
            "height": null,
            "justify_content": null,
            "justify_items": null,
            "left": null,
            "margin": null,
            "max_height": null,
            "max_width": null,
            "min_height": null,
            "min_width": null,
            "object_fit": null,
            "object_position": null,
            "order": null,
            "overflow": null,
            "overflow_x": null,
            "overflow_y": null,
            "padding": null,
            "right": null,
            "top": null,
            "visibility": null,
            "width": null
          }
        },
        "b66e791812b14727b8ce3ebf725462d5": {
          "model_module": "@jupyter-widgets/controls",
          "model_name": "ProgressStyleModel",
          "model_module_version": "1.5.0",
          "state": {
            "_model_module": "@jupyter-widgets/controls",
            "_model_module_version": "1.5.0",
            "_model_name": "ProgressStyleModel",
            "_view_count": null,
            "_view_module": "@jupyter-widgets/base",
            "_view_module_version": "1.2.0",
            "_view_name": "StyleView",
            "bar_color": null,
            "description_width": ""
          }
        },
        "e05cdbfeb9494c3ba3e1f8e5d693853f": {
          "model_module": "@jupyter-widgets/base",
          "model_name": "LayoutModel",
          "model_module_version": "1.2.0",
          "state": {
            "_model_module": "@jupyter-widgets/base",
            "_model_module_version": "1.2.0",
            "_model_name": "LayoutModel",
            "_view_count": null,
            "_view_module": "@jupyter-widgets/base",
            "_view_module_version": "1.2.0",
            "_view_name": "LayoutView",
            "align_content": null,
            "align_items": null,
            "align_self": null,
            "border": null,
            "bottom": null,
            "display": null,
            "flex": null,
            "flex_flow": null,
            "grid_area": null,
            "grid_auto_columns": null,
            "grid_auto_flow": null,
            "grid_auto_rows": null,
            "grid_column": null,
            "grid_gap": null,
            "grid_row": null,
            "grid_template_areas": null,
            "grid_template_columns": null,
            "grid_template_rows": null,
            "height": null,
            "justify_content": null,
            "justify_items": null,
            "left": null,
            "margin": null,
            "max_height": null,
            "max_width": null,
            "min_height": null,
            "min_width": null,
            "object_fit": null,
            "object_position": null,
            "order": null,
            "overflow": null,
            "overflow_x": null,
            "overflow_y": null,
            "padding": null,
            "right": null,
            "top": null,
            "visibility": null,
            "width": null
          }
        },
        "97e8756d01024aa3843b98e29d966e3f": {
          "model_module": "@jupyter-widgets/controls",
          "model_name": "DescriptionStyleModel",
          "model_module_version": "1.5.0",
          "state": {
            "_model_module": "@jupyter-widgets/controls",
            "_model_module_version": "1.5.0",
            "_model_name": "DescriptionStyleModel",
            "_view_count": null,
            "_view_module": "@jupyter-widgets/base",
            "_view_module_version": "1.2.0",
            "_view_name": "StyleView",
            "description_width": ""
          }
        },
        "370adec93c2e41adba353fd43cc7c256": {
          "model_module": "@jupyter-widgets/controls",
          "model_name": "HBoxModel",
          "model_module_version": "1.5.0",
          "state": {
            "_dom_classes": [],
            "_model_module": "@jupyter-widgets/controls",
            "_model_module_version": "1.5.0",
            "_model_name": "HBoxModel",
            "_view_count": null,
            "_view_module": "@jupyter-widgets/controls",
            "_view_module_version": "1.5.0",
            "_view_name": "HBoxView",
            "box_style": "",
            "children": [
              "IPY_MODEL_11a15396f045460591822a41d9eb77c9",
              "IPY_MODEL_b0d3b115d3fd4b3584f1f2c212cf3709",
              "IPY_MODEL_1d3d83247d604be09ec5f6eb49eac304"
            ],
            "layout": "IPY_MODEL_9102216ae579478cb2a421c97065b1a5"
          }
        },
        "11a15396f045460591822a41d9eb77c9": {
          "model_module": "@jupyter-widgets/controls",
          "model_name": "HTMLModel",
          "model_module_version": "1.5.0",
          "state": {
            "_dom_classes": [],
            "_model_module": "@jupyter-widgets/controls",
            "_model_module_version": "1.5.0",
            "_model_name": "HTMLModel",
            "_view_count": null,
            "_view_module": "@jupyter-widgets/controls",
            "_view_module_version": "1.5.0",
            "_view_name": "HTMLView",
            "description": "",
            "description_tooltip": null,
            "layout": "IPY_MODEL_a0e1445e9f714302a7c3ee3e0f4322eb",
            "placeholder": "​",
            "style": "IPY_MODEL_1e47fb4436c043b08bab6e6b206e11d0",
            "value": "100%"
          }
        },
        "b0d3b115d3fd4b3584f1f2c212cf3709": {
          "model_module": "@jupyter-widgets/controls",
          "model_name": "FloatProgressModel",
          "model_module_version": "1.5.0",
          "state": {
            "_dom_classes": [],
            "_model_module": "@jupyter-widgets/controls",
            "_model_module_version": "1.5.0",
            "_model_name": "FloatProgressModel",
            "_view_count": null,
            "_view_module": "@jupyter-widgets/controls",
            "_view_module_version": "1.5.0",
            "_view_name": "ProgressView",
            "bar_style": "success",
            "description": "",
            "description_tooltip": null,
            "layout": "IPY_MODEL_56de238d38544a4ba76d069a2d29e540",
            "max": 4542,
            "min": 0,
            "orientation": "horizontal",
            "style": "IPY_MODEL_4274b612347f4f3f9c87626a66a6a730",
            "value": 4542
          }
        },
        "1d3d83247d604be09ec5f6eb49eac304": {
          "model_module": "@jupyter-widgets/controls",
          "model_name": "HTMLModel",
          "model_module_version": "1.5.0",
          "state": {
            "_dom_classes": [],
            "_model_module": "@jupyter-widgets/controls",
            "_model_module_version": "1.5.0",
            "_model_name": "HTMLModel",
            "_view_count": null,
            "_view_module": "@jupyter-widgets/controls",
            "_view_module_version": "1.5.0",
            "_view_name": "HTMLView",
            "description": "",
            "description_tooltip": null,
            "layout": "IPY_MODEL_549bae0a5b1340f6addf6dbcc9b3be6b",
            "placeholder": "​",
            "style": "IPY_MODEL_011d80eca7bc46fb942dceed32ed973b",
            "value": " 4542/4542 [00:00&lt;00:00, 266392.53it/s]"
          }
        },
        "9102216ae579478cb2a421c97065b1a5": {
          "model_module": "@jupyter-widgets/base",
          "model_name": "LayoutModel",
          "model_module_version": "1.2.0",
          "state": {
            "_model_module": "@jupyter-widgets/base",
            "_model_module_version": "1.2.0",
            "_model_name": "LayoutModel",
            "_view_count": null,
            "_view_module": "@jupyter-widgets/base",
            "_view_module_version": "1.2.0",
            "_view_name": "LayoutView",
            "align_content": null,
            "align_items": null,
            "align_self": null,
            "border": null,
            "bottom": null,
            "display": null,
            "flex": null,
            "flex_flow": null,
            "grid_area": null,
            "grid_auto_columns": null,
            "grid_auto_flow": null,
            "grid_auto_rows": null,
            "grid_column": null,
            "grid_gap": null,
            "grid_row": null,
            "grid_template_areas": null,
            "grid_template_columns": null,
            "grid_template_rows": null,
            "height": null,
            "justify_content": null,
            "justify_items": null,
            "left": null,
            "margin": null,
            "max_height": null,
            "max_width": null,
            "min_height": null,
            "min_width": null,
            "object_fit": null,
            "object_position": null,
            "order": null,
            "overflow": null,
            "overflow_x": null,
            "overflow_y": null,
            "padding": null,
            "right": null,
            "top": null,
            "visibility": null,
            "width": null
          }
        },
        "a0e1445e9f714302a7c3ee3e0f4322eb": {
          "model_module": "@jupyter-widgets/base",
          "model_name": "LayoutModel",
          "model_module_version": "1.2.0",
          "state": {
            "_model_module": "@jupyter-widgets/base",
            "_model_module_version": "1.2.0",
            "_model_name": "LayoutModel",
            "_view_count": null,
            "_view_module": "@jupyter-widgets/base",
            "_view_module_version": "1.2.0",
            "_view_name": "LayoutView",
            "align_content": null,
            "align_items": null,
            "align_self": null,
            "border": null,
            "bottom": null,
            "display": null,
            "flex": null,
            "flex_flow": null,
            "grid_area": null,
            "grid_auto_columns": null,
            "grid_auto_flow": null,
            "grid_auto_rows": null,
            "grid_column": null,
            "grid_gap": null,
            "grid_row": null,
            "grid_template_areas": null,
            "grid_template_columns": null,
            "grid_template_rows": null,
            "height": null,
            "justify_content": null,
            "justify_items": null,
            "left": null,
            "margin": null,
            "max_height": null,
            "max_width": null,
            "min_height": null,
            "min_width": null,
            "object_fit": null,
            "object_position": null,
            "order": null,
            "overflow": null,
            "overflow_x": null,
            "overflow_y": null,
            "padding": null,
            "right": null,
            "top": null,
            "visibility": null,
            "width": null
          }
        },
        "1e47fb4436c043b08bab6e6b206e11d0": {
          "model_module": "@jupyter-widgets/controls",
          "model_name": "DescriptionStyleModel",
          "model_module_version": "1.5.0",
          "state": {
            "_model_module": "@jupyter-widgets/controls",
            "_model_module_version": "1.5.0",
            "_model_name": "DescriptionStyleModel",
            "_view_count": null,
            "_view_module": "@jupyter-widgets/base",
            "_view_module_version": "1.2.0",
            "_view_name": "StyleView",
            "description_width": ""
          }
        },
        "56de238d38544a4ba76d069a2d29e540": {
          "model_module": "@jupyter-widgets/base",
          "model_name": "LayoutModel",
          "model_module_version": "1.2.0",
          "state": {
            "_model_module": "@jupyter-widgets/base",
            "_model_module_version": "1.2.0",
            "_model_name": "LayoutModel",
            "_view_count": null,
            "_view_module": "@jupyter-widgets/base",
            "_view_module_version": "1.2.0",
            "_view_name": "LayoutView",
            "align_content": null,
            "align_items": null,
            "align_self": null,
            "border": null,
            "bottom": null,
            "display": null,
            "flex": null,
            "flex_flow": null,
            "grid_area": null,
            "grid_auto_columns": null,
            "grid_auto_flow": null,
            "grid_auto_rows": null,
            "grid_column": null,
            "grid_gap": null,
            "grid_row": null,
            "grid_template_areas": null,
            "grid_template_columns": null,
            "grid_template_rows": null,
            "height": null,
            "justify_content": null,
            "justify_items": null,
            "left": null,
            "margin": null,
            "max_height": null,
            "max_width": null,
            "min_height": null,
            "min_width": null,
            "object_fit": null,
            "object_position": null,
            "order": null,
            "overflow": null,
            "overflow_x": null,
            "overflow_y": null,
            "padding": null,
            "right": null,
            "top": null,
            "visibility": null,
            "width": null
          }
        },
        "4274b612347f4f3f9c87626a66a6a730": {
          "model_module": "@jupyter-widgets/controls",
          "model_name": "ProgressStyleModel",
          "model_module_version": "1.5.0",
          "state": {
            "_model_module": "@jupyter-widgets/controls",
            "_model_module_version": "1.5.0",
            "_model_name": "ProgressStyleModel",
            "_view_count": null,
            "_view_module": "@jupyter-widgets/base",
            "_view_module_version": "1.2.0",
            "_view_name": "StyleView",
            "bar_color": null,
            "description_width": ""
          }
        },
        "549bae0a5b1340f6addf6dbcc9b3be6b": {
          "model_module": "@jupyter-widgets/base",
          "model_name": "LayoutModel",
          "model_module_version": "1.2.0",
          "state": {
            "_model_module": "@jupyter-widgets/base",
            "_model_module_version": "1.2.0",
            "_model_name": "LayoutModel",
            "_view_count": null,
            "_view_module": "@jupyter-widgets/base",
            "_view_module_version": "1.2.0",
            "_view_name": "LayoutView",
            "align_content": null,
            "align_items": null,
            "align_self": null,
            "border": null,
            "bottom": null,
            "display": null,
            "flex": null,
            "flex_flow": null,
            "grid_area": null,
            "grid_auto_columns": null,
            "grid_auto_flow": null,
            "grid_auto_rows": null,
            "grid_column": null,
            "grid_gap": null,
            "grid_row": null,
            "grid_template_areas": null,
            "grid_template_columns": null,
            "grid_template_rows": null,
            "height": null,
            "justify_content": null,
            "justify_items": null,
            "left": null,
            "margin": null,
            "max_height": null,
            "max_width": null,
            "min_height": null,
            "min_width": null,
            "object_fit": null,
            "object_position": null,
            "order": null,
            "overflow": null,
            "overflow_x": null,
            "overflow_y": null,
            "padding": null,
            "right": null,
            "top": null,
            "visibility": null,
            "width": null
          }
        },
        "011d80eca7bc46fb942dceed32ed973b": {
          "model_module": "@jupyter-widgets/controls",
          "model_name": "DescriptionStyleModel",
          "model_module_version": "1.5.0",
          "state": {
            "_model_module": "@jupyter-widgets/controls",
            "_model_module_version": "1.5.0",
            "_model_name": "DescriptionStyleModel",
            "_view_count": null,
            "_view_module": "@jupyter-widgets/base",
            "_view_module_version": "1.2.0",
            "_view_name": "StyleView",
            "description_width": ""
          }
        }
      }
    },
    "accelerator": "GPU",
    "gpuClass": "standard"
  },
  "cells": [
    {
      "cell_type": "markdown",
      "metadata": {
        "id": "view-in-github",
        "colab_type": "text"
      },
      "source": [
        "<a href=\"https://colab.research.google.com/github/AHQJOHN/Pytorch_with_jovian/blob/main/Pytorch_2.ipynb\" target=\"_parent\"><img src=\"https://colab.research.google.com/assets/colab-badge.svg\" alt=\"Open In Colab\"/></a>"
      ]
    },
    {
      "cell_type": "code",
      "execution_count": 2,
      "metadata": {
        "id": "iLKnAkYhSwEA"
      },
      "outputs": [],
      "source": [
        "import torch\n",
        "import torchvision\n",
        "from torchvision.datasets import MNIST"
      ]
    },
    {
      "cell_type": "code",
      "source": [
        "import numpy as np\n",
        "import matplotlib.pyplot as plt\n",
        "import torchvision.transforms as transforms"
      ],
      "metadata": {
        "id": "woOqb7CexmQa"
      },
      "execution_count": 3,
      "outputs": []
    },
    {
      "cell_type": "code",
      "source": [
        "dataset = MNIST(root='data/', download=True)"
      ],
      "metadata": {
        "colab": {
          "base_uri": "https://localhost:8080/",
          "height": 423,
          "referenced_widgets": [
            "cad1d2f58a014ab79b59dc5e7080b1e6",
            "a8dbee796baf46eeae3d61fb4063d5ad",
            "bee50afc3b144138a35d07891cade2e1",
            "9c8700f115204fe6b76a2c06157cc0af",
            "c3138e3e244a487882054adca9934070",
            "1d873b60cc8e4fe08d97d6e9c48e00d8",
            "11eb6b28bc5944d096c554ebe8a9b780",
            "a70b0ffc73fa4268bbfcc0220139c98a",
            "7e36594b27764bfe9387a7d3035ed58a",
            "9041873ef2534d53bf4e5e5deda8626c",
            "18ed2a2e5ab6413ea0a913d3030e740b",
            "60457f5da2ee457c9821d57610781595",
            "9533eb8867014f2e9dea79ccf8df3073",
            "494e6c62960d424eae5bb853f6c85fd6",
            "314e5a07e9674209beb76756cd5929fb",
            "f4f9fdbaa1324a07a5ffe43e5eeda0da",
            "1c0661e722fb4caabcd7ff6b64d708a7",
            "6439c35b895b4b58affa2bb4978cc855",
            "e92187085b1d4a7283ae3d1b4fa98a03",
            "60e597a31d394d5d9c633fab93192137",
            "cf1648a711a44fa2843262e54c21f267",
            "e9617e8a4a304104af70189f8f11b74f",
            "d0299d63b1114de19cfa70f09f5056b0",
            "41c492ce60c645c58af31bde1cdb42cb",
            "3d380218c3d642ab8ab958e56015c20b",
            "3050e90274e6484fad80b374d96fe85c",
            "1e2ca71bed4849b583536aa10c421ede",
            "e583317af26e488f877fd13ab0df0f1e",
            "e4ffa56b95aa4ce3802366418c7b5799",
            "1bf4acb792f6403b96af83288432bb92",
            "b66e791812b14727b8ce3ebf725462d5",
            "e05cdbfeb9494c3ba3e1f8e5d693853f",
            "97e8756d01024aa3843b98e29d966e3f",
            "370adec93c2e41adba353fd43cc7c256",
            "11a15396f045460591822a41d9eb77c9",
            "b0d3b115d3fd4b3584f1f2c212cf3709",
            "1d3d83247d604be09ec5f6eb49eac304",
            "9102216ae579478cb2a421c97065b1a5",
            "a0e1445e9f714302a7c3ee3e0f4322eb",
            "1e47fb4436c043b08bab6e6b206e11d0",
            "56de238d38544a4ba76d069a2d29e540",
            "4274b612347f4f3f9c87626a66a6a730",
            "549bae0a5b1340f6addf6dbcc9b3be6b",
            "011d80eca7bc46fb942dceed32ed973b"
          ]
        },
        "id": "9PRDjh9kTGND",
        "outputId": "bf73f035-1119-44fb-89f8-267173cc98de"
      },
      "execution_count": 4,
      "outputs": [
        {
          "output_type": "stream",
          "name": "stdout",
          "text": [
            "Downloading http://yann.lecun.com/exdb/mnist/train-images-idx3-ubyte.gz\n",
            "Downloading http://yann.lecun.com/exdb/mnist/train-images-idx3-ubyte.gz to data/MNIST/raw/train-images-idx3-ubyte.gz\n"
          ]
        },
        {
          "output_type": "display_data",
          "data": {
            "text/plain": [
              "  0%|          | 0/9912422 [00:00<?, ?it/s]"
            ],
            "application/vnd.jupyter.widget-view+json": {
              "version_major": 2,
              "version_minor": 0,
              "model_id": "cad1d2f58a014ab79b59dc5e7080b1e6"
            }
          },
          "metadata": {}
        },
        {
          "output_type": "stream",
          "name": "stdout",
          "text": [
            "Extracting data/MNIST/raw/train-images-idx3-ubyte.gz to data/MNIST/raw\n",
            "\n",
            "Downloading http://yann.lecun.com/exdb/mnist/train-labels-idx1-ubyte.gz\n",
            "Downloading http://yann.lecun.com/exdb/mnist/train-labels-idx1-ubyte.gz to data/MNIST/raw/train-labels-idx1-ubyte.gz\n"
          ]
        },
        {
          "output_type": "display_data",
          "data": {
            "text/plain": [
              "  0%|          | 0/28881 [00:00<?, ?it/s]"
            ],
            "application/vnd.jupyter.widget-view+json": {
              "version_major": 2,
              "version_minor": 0,
              "model_id": "60457f5da2ee457c9821d57610781595"
            }
          },
          "metadata": {}
        },
        {
          "output_type": "stream",
          "name": "stdout",
          "text": [
            "Extracting data/MNIST/raw/train-labels-idx1-ubyte.gz to data/MNIST/raw\n",
            "\n",
            "Downloading http://yann.lecun.com/exdb/mnist/t10k-images-idx3-ubyte.gz\n",
            "Downloading http://yann.lecun.com/exdb/mnist/t10k-images-idx3-ubyte.gz to data/MNIST/raw/t10k-images-idx3-ubyte.gz\n"
          ]
        },
        {
          "output_type": "display_data",
          "data": {
            "text/plain": [
              "  0%|          | 0/1648877 [00:00<?, ?it/s]"
            ],
            "application/vnd.jupyter.widget-view+json": {
              "version_major": 2,
              "version_minor": 0,
              "model_id": "d0299d63b1114de19cfa70f09f5056b0"
            }
          },
          "metadata": {}
        },
        {
          "output_type": "stream",
          "name": "stdout",
          "text": [
            "Extracting data/MNIST/raw/t10k-images-idx3-ubyte.gz to data/MNIST/raw\n",
            "\n",
            "Downloading http://yann.lecun.com/exdb/mnist/t10k-labels-idx1-ubyte.gz\n",
            "Downloading http://yann.lecun.com/exdb/mnist/t10k-labels-idx1-ubyte.gz to data/MNIST/raw/t10k-labels-idx1-ubyte.gz\n"
          ]
        },
        {
          "output_type": "display_data",
          "data": {
            "text/plain": [
              "  0%|          | 0/4542 [00:00<?, ?it/s]"
            ],
            "application/vnd.jupyter.widget-view+json": {
              "version_major": 2,
              "version_minor": 0,
              "model_id": "370adec93c2e41adba353fd43cc7c256"
            }
          },
          "metadata": {}
        },
        {
          "output_type": "stream",
          "name": "stdout",
          "text": [
            "Extracting data/MNIST/raw/t10k-labels-idx1-ubyte.gz to data/MNIST/raw\n",
            "\n"
          ]
        }
      ]
    },
    {
      "cell_type": "code",
      "source": [
        "len(dataset)"
      ],
      "metadata": {
        "colab": {
          "base_uri": "https://localhost:8080/"
        },
        "id": "-Wss7CZsTGKA",
        "outputId": "c203a3b1-2a50-4dcf-f9b6-483fd30f0538"
      },
      "execution_count": 5,
      "outputs": [
        {
          "output_type": "execute_result",
          "data": {
            "text/plain": [
              "60000"
            ]
          },
          "metadata": {},
          "execution_count": 5
        }
      ]
    },
    {
      "cell_type": "code",
      "source": [
        "test_dataset = MNIST(root='data/', train=False)\n",
        "len(test_dataset)"
      ],
      "metadata": {
        "colab": {
          "base_uri": "https://localhost:8080/"
        },
        "id": "dLAjyVfZTGG9",
        "outputId": "08d80d80-2378-46aa-a7c3-40339a7169ff"
      },
      "execution_count": 6,
      "outputs": [
        {
          "output_type": "execute_result",
          "data": {
            "text/plain": [
              "10000"
            ]
          },
          "metadata": {},
          "execution_count": 6
        }
      ]
    },
    {
      "cell_type": "code",
      "source": [],
      "metadata": {
        "id": "u7D5ZCc1TGEW"
      },
      "execution_count": 6,
      "outputs": []
    },
    {
      "cell_type": "code",
      "source": [
        "image, label = dataset[0]\n",
        "plt.imshow(image, cmap='gray')\n",
        "print('Label:', label)"
      ],
      "metadata": {
        "colab": {
          "base_uri": "https://localhost:8080/",
          "height": 282
        },
        "id": "25Jt4IkRTGBM",
        "outputId": "eb7e1048-696f-44c7-c0f4-73f1119effdd"
      },
      "execution_count": 7,
      "outputs": [
        {
          "output_type": "stream",
          "name": "stdout",
          "text": [
            "Label: 5\n"
          ]
        },
        {
          "output_type": "display_data",
          "data": {
            "text/plain": [
              "<Figure size 432x288 with 1 Axes>"
            ],
            "image/png": "[encoded data removed]"
          },
          "metadata": {
            "needs_background": "light"
          }
        }
      ]
    },
    {
      "cell_type": "code",
      "source": [
        "image, label = dataset[1000]\n",
        "plt.imshow(image, cmap='gray')\n",
        "print('Label:', label)"
      ],
      "metadata": {
        "colab": {
          "base_uri": "https://localhost:8080/",
          "height": 282
        },
        "id": "PUgNZxb4Pglw",
        "outputId": "e45405dc-0bb5-478c-e401-198906514705"
      },
      "execution_count": 8,
      "outputs": [
        {
          "output_type": "stream",
          "name": "stdout",
          "text": [
            "Label: 0\n"
          ]
        },
        {
          "output_type": "display_data",
          "data": {
            "text/plain": [
              "<Figure size 432x288 with 1 Axes>"
            ],
            "image/png": "[encoded data removed]"
          },
          "metadata": {
            "needs_background": "light"
          }
        }
      ]
    },
    {
      "cell_type": "code",
      "source": [
        "image, label = dataset[10000]\n",
        "plt.imshow(image, cmap='gray')\n",
        "print('Label:', label)"
      ],
      "metadata": {
        "colab": {
          "base_uri": "https://localhost:8080/",
          "height": 282
        },
        "id": "xf67eJetTF-f",
        "outputId": "f8476f8c-e4d7-4f1a-d521-b1f8f15cb30d"
      },
      "execution_count": 9,
      "outputs": [
        {
          "output_type": "stream",
          "name": "stdout",
          "text": [
            "Label: 3\n"
          ]
        },
        {
          "output_type": "display_data",
          "data": {
            "text/plain": [
              "<Figure size 432x288 with 1 Axes>"
            ],
            "image/png": "[encoded data removed]"
          },
          "metadata": {
            "needs_background": "light"
          }
        }
      ]
    },
    {
      "cell_type": "code",
      "source": [],
      "metadata": {
        "id": "ZCDG6vDKTF7k"
      },
      "execution_count": 9,
      "outputs": []
    },
    {
      "cell_type": "code",
      "source": [
        "dataset = MNIST(root='data/', \n",
        "                train=True,\n",
        "                transform=transforms.ToTensor())"
      ],
      "metadata": {
        "id": "qHTI2WtQTF4w"
      },
      "execution_count": 10,
      "outputs": []
    },
    {
      "cell_type": "code",
      "source": [
        "img_tensor, label = dataset[0]\n",
        "print(img_tensor.shape, label)"
      ],
      "metadata": {
        "colab": {
          "base_uri": "https://localhost:8080/"
        },
        "id": "Dlr92UQhTtZu",
        "outputId": "74c303a8-76ab-4819-80de-46d2fe7c207f"
      },
      "execution_count": 11,
      "outputs": [
        {
          "output_type": "stream",
          "name": "stdout",
          "text": [
            "torch.Size([1, 28, 28]) 5\n"
          ]
        }
      ]
    },
    {
      "cell_type": "code",
      "source": [
        "print(img_tensor[0,10:15,10:15])\n",
        "print(torch.max(img_tensor), torch.min(img_tensor))"
      ],
      "metadata": {
        "colab": {
          "base_uri": "https://localhost:8080/"
        },
        "id": "CS0yovi-TF1-",
        "outputId": "0a10f249-2a42-4348-b26f-2e41e9950547"
      },
      "execution_count": 12,
      "outputs": [
        {
          "output_type": "stream",
          "name": "stdout",
          "text": [
            "tensor([[0.0039, 0.6039, 0.9922, 0.3529, 0.0000],\n",
            "        [0.0000, 0.5451, 0.9922, 0.7451, 0.0078],\n",
            "        [0.0000, 0.0431, 0.7451, 0.9922, 0.2745],\n",
            "        [0.0000, 0.0000, 0.1373, 0.9451, 0.8824],\n",
            "        [0.0000, 0.0000, 0.0000, 0.3176, 0.9412]])\n",
            "tensor(1.) tensor(0.)\n"
          ]
        }
      ]
    },
    {
      "cell_type": "code",
      "source": [
        "plt.imshow(img_tensor[0,10:15,10:15], cmap='gray');"
      ],
      "metadata": {
        "colab": {
          "base_uri": "https://localhost:8080/",
          "height": 265
        },
        "id": "kEkEq2v3TFy7",
        "outputId": "f364e681-5576-4c66-83d8-5c97c61739dd"
      },
      "execution_count": 13,
      "outputs": [
        {
          "output_type": "display_data",
          "data": {
            "text/plain": [
              "<Figure size 432x288 with 1 Axes>"
            ],
            "image/png": "[encoded data removed]"
          },
          "metadata": {
            "needs_background": "light"
          }
        }
      ]
    },
    {
      "cell_type": "code",
      "source": [
        "from torch.utils.data import random_split\n",
        "\n",
        "train_ds, val_ds = random_split(dataset, [50000, 10000])\n",
        "len(train_ds), len(val_ds)"
      ],
      "metadata": {
        "colab": {
          "base_uri": "https://localhost:8080/"
        },
        "id": "C5KGFSAITFwH",
        "outputId": "a763375a-37b2-4ab5-8cea-418ab8ebcf1c"
      },
      "execution_count": 14,
      "outputs": [
        {
          "output_type": "execute_result",
          "data": {
            "text/plain": [
              "(50000, 10000)"
            ]
          },
          "metadata": {},
          "execution_count": 14
        }
      ]
    },
    {
      "cell_type": "code",
      "source": [
        "from torch.utils.data import DataLoader\n",
        "\n",
        "batch_size = 128\n",
        "\n",
        "train_loader = DataLoader(train_ds, batch_size, shuffle=True)\n",
        "val_loader = DataLoader(val_ds, batch_size)"
      ],
      "metadata": {
        "id": "_alie-zCTFtY"
      },
      "execution_count": 15,
      "outputs": []
    },
    {
      "cell_type": "code",
      "source": [
        "import torch.nn as nn\n",
        "\n",
        "input_size = 28*28\n",
        "num_classes = 10\n",
        "\n",
        "# Logistic regression model\n",
        "model = nn.Linear(input_size, num_classes)"
      ],
      "metadata": {
        "id": "Vbx7RasETFqx"
      },
      "execution_count": 16,
      "outputs": []
    },
    {
      "cell_type": "code",
      "source": [
        "print(model.weight.shape)\n",
        "model.weight"
      ],
      "metadata": {
        "colab": {
          "base_uri": "https://localhost:8080/"
        },
        "id": "treF9NkMTFnx",
        "outputId": "a3736099-2bc7-4953-b0b8-046d204e1e91"
      },
      "execution_count": 17,
      "outputs": [
        {
          "output_type": "stream",
          "name": "stdout",
          "text": [
            "torch.Size([10, 784])\n"
          ]
        },
        {
          "output_type": "execute_result",
          "data": {
            "text/plain": [
              "Parameter containing:\n",
              "tensor([[-0.0130, -0.0187, -0.0072,  ...,  0.0122,  0.0251,  0.0239],\n",
              "        [ 0.0141,  0.0224,  0.0054,  ...,  0.0015,  0.0164, -0.0011],\n",
              "        [ 0.0232,  0.0035,  0.0269,  ..., -0.0194, -0.0098, -0.0225],\n",
              "        ...,\n",
              "        [-0.0015,  0.0300,  0.0296,  ..., -0.0316, -0.0157,  0.0294],\n",
              "        [ 0.0248,  0.0177,  0.0196,  ..., -0.0031, -0.0179,  0.0052],\n",
              "        [-0.0030,  0.0356,  0.0319,  ...,  0.0215,  0.0066,  0.0121]],\n",
              "       requires_grad=True)"
            ]
          },
          "metadata": {},
          "execution_count": 17
        }
      ]
    },
    {
      "cell_type": "code",
      "source": [
        "print(model.bias.shape)\n",
        "model.bias"
      ],
      "metadata": {
        "colab": {
          "base_uri": "https://localhost:8080/"
        },
        "id": "JJtO4-dRTFlI",
        "outputId": "aa5062d7-a09b-408e-da8d-a0f9fefa3840"
      },
      "execution_count": 18,
      "outputs": [
        {
          "output_type": "stream",
          "name": "stdout",
          "text": [
            "torch.Size([10])\n"
          ]
        },
        {
          "output_type": "execute_result",
          "data": {
            "text/plain": [
              "Parameter containing:\n",
              "tensor([-0.0262,  0.0095,  0.0279,  0.0242,  0.0132, -0.0094, -0.0128, -0.0178,\n",
              "         0.0133, -0.0241], requires_grad=True)"
            ]
          },
          "metadata": {},
          "execution_count": 18
        }
      ]
    },
    {
      "cell_type": "code",
      "source": [
        "for images, labels in train_loader:\n",
        "    print(labels)\n",
        "    images = images.reshape(128, 784)\n",
        "    print(images.shape)\n",
        "    outputs = model(images)\n",
        "    print(outputs)\n",
        "    break"
      ],
      "metadata": {
        "colab": {
          "base_uri": "https://localhost:8080/"
        },
        "id": "yvSz2a70TFia",
        "outputId": "de2e1aad-9ee4-4f5e-d8fc-ecf384b9f74e"
      },
      "execution_count": 19,
      "outputs": [
        {
          "output_type": "stream",
          "name": "stdout",
          "text": [
            "tensor([8, 6, 6, 0, 0, 6, 4, 2, 3, 8, 1, 3, 9, 2, 1, 7, 9, 0, 6, 8, 1, 6, 5, 8,\n",
            "        4, 0, 3, 4, 1, 6, 3, 3, 9, 2, 3, 4, 9, 4, 3, 4, 3, 1, 0, 5, 3, 9, 5, 0,\n",
            "        9, 8, 5, 1, 1, 1, 7, 1, 2, 1, 6, 4, 7, 2, 8, 5, 1, 0, 1, 1, 1, 9, 9, 2,\n",
            "        3, 5, 8, 7, 6, 8, 9, 9, 3, 2, 1, 8, 2, 7, 9, 1, 2, 2, 2, 3, 3, 1, 1, 2,\n",
            "        1, 1, 3, 3, 2, 9, 9, 7, 5, 4, 2, 5, 0, 2, 7, 3, 6, 3, 1, 4, 8, 2, 6, 5,\n",
            "        2, 4, 0, 9, 9, 0, 9, 9])\n",
            "torch.Size([128, 784])\n",
            "tensor([[ 0.1744,  0.0767, -0.0968,  ..., -0.1626, -0.1608,  0.1245],\n",
            "        [ 0.3001, -0.1605, -0.2169,  ...,  0.0450, -0.0995,  0.2431],\n",
            "        [ 0.1671, -0.2056, -0.1314,  ...,  0.2745,  0.2744,  0.0539],\n",
            "        ...,\n",
            "        [ 0.4582,  0.1076, -0.2156,  ..., -0.2839, -0.0727,  0.1473],\n",
            "        [ 0.0813, -0.1020,  0.0711,  ...,  0.0158,  0.1589,  0.1875],\n",
            "        [ 0.4295, -0.1596, -0.3639,  ..., -0.1559,  0.3069,  0.0446]],\n",
            "       grad_fn=<AddmmBackward0>)\n"
          ]
        }
      ]
    },
    {
      "cell_type": "code",
      "source": [
        "# images = train_loader[0]\n",
        "images.shape"
      ],
      "metadata": {
        "colab": {
          "base_uri": "https://localhost:8080/"
        },
        "id": "bH37J1x6TFfs",
        "outputId": "d3c31e6b-7341-4841-8a7a-bcbaffa2f972"
      },
      "execution_count": 20,
      "outputs": [
        {
          "output_type": "execute_result",
          "data": {
            "text/plain": [
              "torch.Size([128, 784])"
            ]
          },
          "metadata": {},
          "execution_count": 20
        }
      ]
    },
    {
      "cell_type": "code",
      "source": [],
      "metadata": {
        "id": "ml2g-rpdUsUD"
      },
      "execution_count": 20,
      "outputs": []
    },
    {
      "cell_type": "code",
      "source": [
        "images.reshape(128, 784).shape"
      ],
      "metadata": {
        "colab": {
          "base_uri": "https://localhost:8080/"
        },
        "id": "JFL9_RLkTFdD",
        "outputId": "f4c29815-33d8-486a-8bd9-72d7564c7d52"
      },
      "execution_count": 21,
      "outputs": [
        {
          "output_type": "execute_result",
          "data": {
            "text/plain": [
              "torch.Size([128, 784])"
            ]
          },
          "metadata": {},
          "execution_count": 21
        }
      ]
    },
    {
      "cell_type": "markdown",
      "source": [
        "### Iterate Over Dataloader"
      ],
      "metadata": {
        "id": "CRuYI3lr4dj9"
      }
    },
    {
      "cell_type": "code",
      "source": [
        "dataiter = iter(train_loader)\n",
        "images, labels = next(dataiter)\n",
        "print(type(images))\n",
        "print(images.shape)\n",
        "print(labels.shape)"
      ],
      "metadata": {
        "colab": {
          "base_uri": "https://localhost:8080/"
        },
        "id": "fcTlrMpl398j",
        "outputId": "5e9ac298-9d5a-4600-8032-372432f99c1d"
      },
      "execution_count": 22,
      "outputs": [
        {
          "output_type": "stream",
          "name": "stdout",
          "text": [
            "<class 'torch.Tensor'>\n",
            "torch.Size([128, 1, 28, 28])\n",
            "torch.Size([128])\n"
          ]
        }
      ]
    },
    {
      "cell_type": "code",
      "source": [
        "class Person:\n",
        "  def __init__(self, name, age):\n",
        "    self.name = name\n",
        "    self.age = age\n",
        "  def say_hello(self):\n",
        "    print(\"Hello my_name is \"+self.name+\" !\")"
      ],
      "metadata": {
        "id": "P_BaM1DzTFaJ"
      },
      "execution_count": 23,
      "outputs": []
    },
    {
      "cell_type": "code",
      "source": [
        "john = Person(\"John\",30)"
      ],
      "metadata": {
        "id": "8edXkOZJz3-n"
      },
      "execution_count": 24,
      "outputs": []
    },
    {
      "cell_type": "code",
      "source": [
        "john.name, john.age"
      ],
      "metadata": {
        "colab": {
          "base_uri": "https://localhost:8080/"
        },
        "id": "qsSumt5Zz379",
        "outputId": "51e174a7-0a26-4b29-ce04-1228563579ba"
      },
      "execution_count": 25,
      "outputs": [
        {
          "output_type": "execute_result",
          "data": {
            "text/plain": [
              "('John', 30)"
            ]
          },
          "metadata": {},
          "execution_count": 25
        }
      ]
    },
    {
      "cell_type": "code",
      "source": [
        "john.say_hello()"
      ],
      "metadata": {
        "colab": {
          "base_uri": "https://localhost:8080/"
        },
        "id": "A_6FmCNjz34k",
        "outputId": "09e28e7c-2969-4c7d-9770-77e6a1c09c52"
      },
      "execution_count": 26,
      "outputs": [
        {
          "output_type": "stream",
          "name": "stdout",
          "text": [
            "Hello my_name is John !\n"
          ]
        }
      ]
    },
    {
      "cell_type": "code",
      "source": [
        "class MnistModel(nn.Module):\n",
        "    def __init__(self):\n",
        "        super().__init__()\n",
        "        self.linear = nn.Linear(input_size, num_classes)\n",
        "        \n",
        "    def forward(self, xb):\n",
        "        xb = xb.reshape(-1, 784)  \n",
        "        # Leaving 1st dimention empty to fillup by divition calculating from all the elements of the tensor\n",
        "        out = self.linear(xb)\n",
        "        return out\n",
        "    \n",
        "model = MnistModel()"
      ],
      "metadata": {
        "id": "MOEFZRWWz31p"
      },
      "execution_count": 27,
      "outputs": []
    },
    {
      "cell_type": "code",
      "source": [
        "model.linear"
      ],
      "metadata": {
        "colab": {
          "base_uri": "https://localhost:8080/"
        },
        "id": "KthNmkI6z3yx",
        "outputId": "dcc2b4e0-d167-42aa-c923-a32c73c113c2"
      },
      "execution_count": 28,
      "outputs": [
        {
          "output_type": "execute_result",
          "data": {
            "text/plain": [
              "Linear(in_features=784, out_features=10, bias=True)"
            ]
          },
          "metadata": {},
          "execution_count": 28
        }
      ]
    },
    {
      "cell_type": "code",
      "source": [
        "print(model.linear.weight.shape, model.linear.bias.shape)\n",
        "list(model.parameters())"
      ],
      "metadata": {
        "colab": {
          "base_uri": "https://localhost:8080/"
        },
        "id": "p4VuzRE1z3vv",
        "outputId": "c5471174-c341-49a4-bb2f-4307bc881442"
      },
      "execution_count": 29,
      "outputs": [
        {
          "output_type": "stream",
          "name": "stdout",
          "text": [
            "torch.Size([10, 784]) torch.Size([10])\n"
          ]
        },
        {
          "output_type": "execute_result",
          "data": {
            "text/plain": [
              "[Parameter containing:\n",
              " tensor([[-0.0241, -0.0259,  0.0286,  ..., -0.0350, -0.0311,  0.0016],\n",
              "         [-0.0176, -0.0333, -0.0320,  ...,  0.0284,  0.0333,  0.0099],\n",
              "         [-0.0168, -0.0223,  0.0088,  ..., -0.0181,  0.0068, -0.0130],\n",
              "         ...,\n",
              "         [-0.0162,  0.0129, -0.0310,  ..., -0.0023, -0.0212,  0.0329],\n",
              "         [ 0.0082,  0.0014,  0.0262,  ...,  0.0218,  0.0316,  0.0193],\n",
              "         [ 0.0113, -0.0351,  0.0074,  ...,  0.0118,  0.0130,  0.0150]],\n",
              "        requires_grad=True), Parameter containing:\n",
              " tensor([-0.0128, -0.0332,  0.0263, -0.0019, -0.0272, -0.0130,  0.0083,  0.0332,\n",
              "         -0.0091,  0.0338], requires_grad=True)]"
            ]
          },
          "metadata": {},
          "execution_count": 29
        }
      ]
    },
    {
      "cell_type": "code",
      "source": [
        "for images, labels in train_loader:\n",
        "    print(images.shape, labels.shape)\n",
        "    outputs = model(images)\n",
        "    break\n",
        "\n",
        "print('outputs.shape : ', outputs.shape)\n",
        "print('Sample outputs :\\n', outputs[:2].data)"
      ],
      "metadata": {
        "colab": {
          "base_uri": "https://localhost:8080/"
        },
        "id": "tvE6nz9yz3s0",
        "outputId": "cd45fd15-4d78-4dcf-921f-32db9226ef80"
      },
      "execution_count": 30,
      "outputs": [
        {
          "output_type": "stream",
          "name": "stdout",
          "text": [
            "torch.Size([128, 1, 28, 28]) torch.Size([128])\n",
            "outputs.shape :  torch.Size([128, 10])\n",
            "Sample outputs :\n",
            " tensor([[-0.1168, -0.3815,  0.1130,  0.1781, -0.3759, -0.4248, -0.5415,  0.0829,\n",
            "          0.0052, -0.3054],\n",
            "        [ 0.0736, -0.0247,  0.0341,  0.0484, -0.2148, -0.1422,  0.0950, -0.1996,\n",
            "         -0.0081, -0.0633]])\n"
          ]
        }
      ]
    },
    {
      "cell_type": "code",
      "source": [
        "print('Sample outputs :\\n', outputs[0].data)"
      ],
      "metadata": {
        "colab": {
          "base_uri": "https://localhost:8080/"
        },
        "id": "n0PHiDDRz3pr",
        "outputId": "dcd477a9-6f39-4de6-aab2-767f406769fe"
      },
      "execution_count": 31,
      "outputs": [
        {
          "output_type": "stream",
          "name": "stdout",
          "text": [
            "Sample outputs :\n",
            " tensor([-0.1168, -0.3815,  0.1130,  0.1781, -0.3759, -0.4248, -0.5415,  0.0829,\n",
            "         0.0052, -0.3054])\n"
          ]
        }
      ]
    },
    {
      "cell_type": "code",
      "source": [
        "import torch.nn.functional as F"
      ],
      "metadata": {
        "id": "F0WL0wXYz3mk"
      },
      "execution_count": 32,
      "outputs": []
    },
    {
      "cell_type": "code",
      "source": [
        "probs = F.softmax(outputs, dim=1)\n",
        "probs"
      ],
      "metadata": {
        "colab": {
          "base_uri": "https://localhost:8080/"
        },
        "id": "eJ0WZ1lgz3jc",
        "outputId": "95645190-614e-4c9b-d56c-543df0bff94c"
      },
      "execution_count": 33,
      "outputs": [
        {
          "output_type": "execute_result",
          "data": {
            "text/plain": [
              "tensor([[0.1030, 0.0790, 0.1296,  ..., 0.1258, 0.1164, 0.0853],\n",
              "        [0.1114, 0.1010, 0.1071,  ..., 0.0848, 0.1027, 0.0972],\n",
              "        [0.0962, 0.0880, 0.1099,  ..., 0.1281, 0.1159, 0.0993],\n",
              "        ...,\n",
              "        [0.0703, 0.0936, 0.1002,  ..., 0.1148, 0.1412, 0.0956],\n",
              "        [0.1473, 0.0756, 0.0924,  ..., 0.1089, 0.1010, 0.0848],\n",
              "        [0.1036, 0.0898, 0.1093,  ..., 0.1024, 0.1137, 0.0897]],\n",
              "       grad_fn=<SoftmaxBackward0>)"
            ]
          },
          "metadata": {},
          "execution_count": 33
        }
      ]
    },
    {
      "cell_type": "code",
      "source": [
        "print(\"Sample probabilities:\\n\", probs[:2].data)\n",
        "print(\"Sum: \", torch.sum(probs[0]).item())"
      ],
      "metadata": {
        "colab": {
          "base_uri": "https://localhost:8080/"
        },
        "id": "hJKESkFqz3gj",
        "outputId": "5b381d00-56f4-4285-a9fa-22ec9d376b1e"
      },
      "execution_count": 34,
      "outputs": [
        {
          "output_type": "stream",
          "name": "stdout",
          "text": [
            "Sample probabilities:\n",
            " tensor([[0.1030, 0.0790, 0.1296, 0.1383, 0.0795, 0.0757, 0.0674, 0.1258, 0.1164,\n",
            "         0.0853],\n",
            "        [0.1114, 0.1010, 0.1071, 0.1087, 0.0835, 0.0898, 0.1138, 0.0848, 0.1027,\n",
            "         0.0972]])\n",
            "Sum:  0.9999999403953552\n"
          ]
        }
      ]
    },
    {
      "cell_type": "code",
      "source": [
        "torch.max(probs[0]).item()"
      ],
      "metadata": {
        "colab": {
          "base_uri": "https://localhost:8080/"
        },
        "id": "wbzHTL1Az3dW",
        "outputId": "f59b12d4-67dd-4bae-cdc5-3df8320cc5b2"
      },
      "execution_count": 35,
      "outputs": [
        {
          "output_type": "execute_result",
          "data": {
            "text/plain": [
              "0.13833603262901306"
            ]
          },
          "metadata": {},
          "execution_count": 35
        }
      ]
    },
    {
      "cell_type": "code",
      "source": [
        "max_probs, preds = torch.max(probs, dim=1)\n",
        "print(preds)\n",
        "print(max_probs)"
      ],
      "metadata": {
        "id": "Jhxmdazmz3Z9",
        "colab": {
          "base_uri": "https://localhost:8080/"
        },
        "outputId": "bf2d5667-9f1a-4cd6-ede5-d6e9c7626895"
      },
      "execution_count": 36,
      "outputs": [
        {
          "output_type": "stream",
          "name": "stdout",
          "text": [
            "tensor([3, 6, 7, 3, 0, 2, 8, 7, 8, 0, 3, 0, 3, 3, 8, 8, 0, 0, 2, 0, 8, 0, 5, 2,\n",
            "        8, 9, 8, 3, 0, 7, 3, 0, 8, 8, 7, 3, 8, 6, 3, 8, 2, 0, 0, 3, 8, 0, 8, 2,\n",
            "        2, 0, 0, 2, 8, 8, 0, 3, 0, 3, 2, 8, 3, 3, 3, 5, 9, 3, 0, 3, 8, 2, 0, 9,\n",
            "        2, 0, 0, 7, 0, 9, 0, 3, 2, 8, 2, 0, 3, 2, 7, 0, 8, 6, 2, 3, 7, 0, 2, 3,\n",
            "        8, 3, 2, 2, 8, 3, 2, 7, 3, 8, 2, 0, 4, 9, 3, 3, 0, 2, 8, 3, 7, 8, 3, 3,\n",
            "        8, 7, 0, 8, 2, 8, 0, 3])\n",
            "tensor([0.1383, 0.1138, 0.1281, 0.1137, 0.1312, 0.1149, 0.1228, 0.1620, 0.1143,\n",
            "        0.1295, 0.1373, 0.1308, 0.1158, 0.1337, 0.1226, 0.1194, 0.1091, 0.1329,\n",
            "        0.1289, 0.1279, 0.1169, 0.1189, 0.1296, 0.1179, 0.1207, 0.1196, 0.1270,\n",
            "        0.1142, 0.1161, 0.1428, 0.1211, 0.1213, 0.1214, 0.1356, 0.1321, 0.1250,\n",
            "        0.1401, 0.1248, 0.1511, 0.1249, 0.1201, 0.1250, 0.1257, 0.1233, 0.1135,\n",
            "        0.1314, 0.1221, 0.1192, 0.1241, 0.1188, 0.1226, 0.1330, 0.1232, 0.1129,\n",
            "        0.1308, 0.1436, 0.1293, 0.1353, 0.1378, 0.1464, 0.1304, 0.1248, 0.1518,\n",
            "        0.1131, 0.1189, 0.1301, 0.1317, 0.1297, 0.1294, 0.1292, 0.1197, 0.1164,\n",
            "        0.1194, 0.1555, 0.1200, 0.1305, 0.1163, 0.1196, 0.1157, 0.1252, 0.1346,\n",
            "        0.1273, 0.1385, 0.1284, 0.1125, 0.1220, 0.1222, 0.1386, 0.1258, 0.1202,\n",
            "        0.1411, 0.1264, 0.1372, 0.1193, 0.1394, 0.1165, 0.1459, 0.1163, 0.1109,\n",
            "        0.1305, 0.1495, 0.1309, 0.1255, 0.1520, 0.1093, 0.1327, 0.1430, 0.1188,\n",
            "        0.1228, 0.1173, 0.1268, 0.1193, 0.1148, 0.1513, 0.1175, 0.1278, 0.1198,\n",
            "        0.1230, 0.1351, 0.1177, 0.1328, 0.1269, 0.1252, 0.1417, 0.1220, 0.1412,\n",
            "        0.1473, 0.1148], grad_fn=<MaxBackward0>)\n"
          ]
        }
      ]
    },
    {
      "cell_type": "code",
      "source": [
        "labels"
      ],
      "metadata": {
        "id": "zhuo4_y1z3Wq",
        "colab": {
          "base_uri": "https://localhost:8080/"
        },
        "outputId": "7aca5037-af11-4eab-ce24-f1083ece718c"
      },
      "execution_count": 37,
      "outputs": [
        {
          "output_type": "execute_result",
          "data": {
            "text/plain": [
              "tensor([0, 1, 7, 2, 1, 1, 6, 7, 8, 7, 9, 8, 1, 9, 4, 8, 9, 0, 1, 3, 4, 5, 2, 1,\n",
              "        3, 5, 4, 1, 0, 7, 5, 5, 3, 2, 7, 6, 3, 3, 2, 4, 5, 3, 2, 7, 7, 3, 2, 1,\n",
              "        5, 1, 4, 0, 8, 9, 0, 0, 7, 2, 2, 3, 6, 4, 2, 2, 4, 7, 8, 9, 4, 9, 7, 6,\n",
              "        3, 8, 8, 2, 2, 6, 1, 2, 3, 3, 0, 2, 1, 9, 7, 7, 7, 6, 7, 4, 2, 1, 2, 1,\n",
              "        8, 7, 1, 3, 4, 3, 3, 7, 9, 4, 0, 1, 6, 3, 8, 3, 1, 0, 9, 5, 2, 6, 0, 7,\n",
              "        2, 7, 8, 2, 2, 4, 8, 2])"
            ]
          },
          "metadata": {},
          "execution_count": 37
        }
      ]
    },
    {
      "cell_type": "code",
      "source": [
        "outputs[:2]"
      ],
      "metadata": {
        "id": "lF0blNPsz3Tk",
        "colab": {
          "base_uri": "https://localhost:8080/"
        },
        "outputId": "ac648da5-77ac-40a1-f19a-7ac0a532d82f"
      },
      "execution_count": 38,
      "outputs": [
        {
          "output_type": "execute_result",
          "data": {
            "text/plain": [
              "tensor([[-0.1168, -0.3815,  0.1130,  0.1781, -0.3759, -0.4248, -0.5415,  0.0829,\n",
              "          0.0052, -0.3054],\n",
              "        [ 0.0736, -0.0247,  0.0341,  0.0484, -0.2148, -0.1422,  0.0950, -0.1996,\n",
              "         -0.0081, -0.0633]], grad_fn=<SliceBackward0>)"
            ]
          },
          "metadata": {},
          "execution_count": 38
        }
      ]
    },
    {
      "cell_type": "code",
      "source": [
        "torch.sum(preds == labels)"
      ],
      "metadata": {
        "id": "U_wJiupyz3QO",
        "colab": {
          "base_uri": "https://localhost:8080/"
        },
        "outputId": "93b8720c-b2dd-4f0f-f31b-c55e3f172570"
      },
      "execution_count": 39,
      "outputs": [
        {
          "output_type": "execute_result",
          "data": {
            "text/plain": [
              "tensor(20)"
            ]
          },
          "metadata": {},
          "execution_count": 39
        }
      ]
    },
    {
      "cell_type": "code",
      "source": [
        "def accuracy(outputs, labels):\n",
        "    _, preds = torch.max(outputs, dim=1)\n",
        "    return torch.tensor(torch.sum(preds == labels).item() / len(preds))"
      ],
      "metadata": {
        "id": "PQsRxfXkz3NC"
      },
      "execution_count": 40,
      "outputs": []
    },
    {
      "cell_type": "code",
      "source": [
        "accuracy(outputs, labels)\n"
      ],
      "metadata": {
        "id": "A9F4NiADz3KH",
        "colab": {
          "base_uri": "https://localhost:8080/"
        },
        "outputId": "58e9bf78-69be-467a-b1ea-168387be7073"
      },
      "execution_count": 41,
      "outputs": [
        {
          "output_type": "execute_result",
          "data": {
            "text/plain": [
              "tensor(0.1562)"
            ]
          },
          "metadata": {},
          "execution_count": 41
        }
      ]
    },
    {
      "cell_type": "code",
      "source": [
        "loss_fn = F.cross_entropy"
      ],
      "metadata": {
        "id": "U41tClYKz3G_"
      },
      "execution_count": 42,
      "outputs": []
    },
    {
      "cell_type": "code",
      "source": [
        "loss = loss_fn(outputs, labels)\n",
        "print(loss)"
      ],
      "metadata": {
        "id": "BEH1Gd3Wz3D2",
        "colab": {
          "base_uri": "https://localhost:8080/"
        },
        "outputId": "e0cd2730-1b2d-48a4-8f11-d7a71119f2ec"
      },
      "execution_count": 43,
      "outputs": [
        {
          "output_type": "stream",
          "name": "stdout",
          "text": [
            "tensor(2.2517, grad_fn=<NllLossBackward0>)\n"
          ]
        }
      ]
    },
    {
      "cell_type": "code",
      "source": [],
      "metadata": {
        "id": "9Nax_hfxz3BA"
      },
      "execution_count": 43,
      "outputs": []
    },
    {
      "cell_type": "markdown",
      "source": [
        "## Training the model\n",
        "\n",
        "Now that we have defined the data loaders, model, loss function and optimizer, we are ready to train the model. The training process is identical to linear regression, with the addition of a \"validation phase\" to evaluate the model in each epoch. Here's what it looks like in pseudocode:\n",
        "\n",
        "```\n",
        "for epoch in range(num_epochs):\n",
        "    # Training phase\n",
        "    for batch in train_loader:\n",
        "        # Generate predictions\n",
        "        # Calculate loss\n",
        "        # Compute gradients\n",
        "        # Update weights\n",
        "        # Reset gradients\n",
        "    \n",
        "    # Validation phase\n",
        "    for batch in val_loader:\n",
        "        # Generate predictions\n",
        "        # Calculate loss\n",
        "        # Calculate metrics (accuracy etc.)\n",
        "    # Calculate average validation loss & metrics\n",
        "    \n",
        "    # Log epoch, loss & metrics for inspection\n",
        "```\n",
        "\n",
        "Some parts of the training loop are specific the specific problem we're solving (e.g. loss function, metrics etc.) whereas others are generic and can be applied to any deep learning problem. \n",
        "\n",
        "We'll include the problem-independent parts within a function called `fit`, which will be used to train the model. The problem-specific parts will be implemented by adding new methods to the `nn.Module` class.\n"
      ],
      "metadata": {
        "id": "q0LlJKTS9KjK"
      }
    },
    {
      "cell_type": "code",
      "source": [
        "def fit(epochs, lr, model, train_loader, val_loader, opt_func=torch.optim.SGD):\n",
        "    optimizer = opt_func(model.parameters(), lr)\n",
        "    history = [] # for recording epoch-wise results\n",
        "    \n",
        "    for epoch in range(epochs):\n",
        "        \n",
        "        # Training Phase \n",
        "        for batch in train_loader:\n",
        "            loss = model.training_step(batch)\n",
        "            loss.backward()\n",
        "            optimizer.step()\n",
        "            optimizer.zero_grad()\n",
        "        \n",
        "        # Validation phase\n",
        "        result = evaluate(model, val_loader)\n",
        "        model.epoch_end(epoch, result)\n",
        "        history.append(result)\n",
        "\n",
        "    return history"
      ],
      "metadata": {
        "id": "WWsZCI1nz2-H"
      },
      "execution_count": 62,
      "outputs": []
    },
    {
      "cell_type": "code",
      "source": [
        "def evaluate(model, val_loader):\n",
        "    outputs = [model.validation_step(batch) for batch in val_loader]\n",
        "    return model.validation_epoch_end(outputs)"
      ],
      "metadata": {
        "id": "twfM3IpCz27U"
      },
      "execution_count": 63,
      "outputs": []
    },
    {
      "cell_type": "code",
      "source": [
        "class MnistModel(nn.Module):\n",
        "    def __init__(self):\n",
        "        super().__init__()\n",
        "        self.linear = nn.Linear(input_size, num_classes)\n",
        "    def forward(self, xb):\n",
        "      xb = xb.reshape(-1,784)\n",
        "      out  = self.linear(xb)\n",
        "      return out\n",
        "    def training_step(self, batch):\n",
        "      images, labels = batch\n",
        "      out = self(images)  # this one for generating predictions\n",
        "      loss = F.cross_entropy(out, labels) # loss\n",
        "      return loss\n",
        "    def validation_step(self, batch):\n",
        "        images, labels = batch \n",
        "        out = self(images)                    # Generate predictions\n",
        "        loss = F.cross_entropy(out, labels)   # Calculate loss\n",
        "        acc = accuracy(out, labels)           # Calculate accuracy\n",
        "        return {'val_loss': loss, 'val_acc': acc}\n",
        "        \n",
        "    def validation_epoch_end(self, outputs):\n",
        "        batch_losses = [x['val_loss'] for x in outputs]\n",
        "        epoch_loss = torch.stack(batch_losses).mean()   # Combine losses\n",
        "        batch_accs = [x['val_acc'] for x in outputs]\n",
        "        epoch_acc = torch.stack(batch_accs).mean()      # Combine accuracies\n",
        "        return {'val_loss': epoch_loss.item(), 'val_acc': epoch_acc.item()}\n",
        "    \n",
        "    def epoch_end(self, epoch, result):\n",
        "        print(\"Epoch [{}], val_loss: {:.4f}, val_acc: {:.4f}\".format(epoch, result['val_loss'], result['val_acc']))\n",
        "    \n",
        "model = MnistModel()    \n",
        "\n",
        "\n"
      ],
      "metadata": {
        "id": "bWoFi6Ciz24e"
      },
      "execution_count": 64,
      "outputs": []
    },
    {
      "cell_type": "code",
      "source": [
        "result0 = evaluate(model, val_loader)\n",
        "result0"
      ],
      "metadata": {
        "id": "SGTS9l0nz21c",
        "colab": {
          "base_uri": "https://localhost:8080/"
        },
        "outputId": "25847748-a97f-4549-fb4a-813366f72087"
      },
      "execution_count": 65,
      "outputs": [
        {
          "output_type": "execute_result",
          "data": {
            "text/plain": [
              "{'val_loss': 2.3207955360412598, 'val_acc': 0.09493670612573624}"
            ]
          },
          "metadata": {},
          "execution_count": 65
        }
      ]
    },
    {
      "cell_type": "code",
      "source": [
        "history1 = fit(5, 0.001, model, train_loader, val_loader)"
      ],
      "metadata": {
        "id": "Ug1yrJatz2yd",
        "colab": {
          "base_uri": "https://localhost:8080/"
        },
        "outputId": "2d59e11e-362a-4a2b-fc03-00feb6ef1ac5"
      },
      "execution_count": 66,
      "outputs": [
        {
          "output_type": "stream",
          "name": "stdout",
          "text": [
            "Epoch [0], val_loss: 1.9475, val_acc: 0.6244\n",
            "Epoch [1], val_loss: 1.6802, val_acc: 0.7271\n",
            "Epoch [2], val_loss: 1.4806, val_acc: 0.7618\n",
            "Epoch [3], val_loss: 1.3299, val_acc: 0.7806\n",
            "Epoch [4], val_loss: 1.2137, val_acc: 0.7962\n"
          ]
        }
      ]
    },
    {
      "cell_type": "code",
      "source": [
        "history1 "
      ],
      "metadata": {
        "colab": {
          "base_uri": "https://localhost:8080/"
        },
        "id": "VgNNoygET3VR",
        "outputId": "68b0e0c0-8197-4d29-c091-4ee0df1dc48c"
      },
      "execution_count": 67,
      "outputs": [
        {
          "output_type": "execute_result",
          "data": {
            "text/plain": [
              "[{'val_loss': 1.9475306272506714, 'val_acc': 0.624406635761261},\n",
              " {'val_loss': 1.6801639795303345, 'val_acc': 0.7270569801330566},\n",
              " {'val_loss': 1.4806312322616577, 'val_acc': 0.7617682218551636},\n",
              " {'val_loss': 1.3298695087432861, 'val_acc': 0.7805577516555786},\n",
              " {'val_loss': 1.2136781215667725, 'val_acc': 0.7961827516555786}]"
            ]
          },
          "metadata": {},
          "execution_count": 67
        }
      ]
    },
    {
      "cell_type": "code",
      "source": [],
      "metadata": {
        "id": "odgnYZHVT3O_"
      },
      "execution_count": null,
      "outputs": []
    },
    {
      "cell_type": "code",
      "source": [
        "%%time\n",
        "history2 = fit(5, 0.001, model, train_loader, val_loader)"
      ],
      "metadata": {
        "id": "YgYbQvoWz2vM",
        "colab": {
          "base_uri": "https://localhost:8080/"
        },
        "outputId": "c70f5dd8-dc0f-46aa-84ef-2088d089117a"
      },
      "execution_count": 68,
      "outputs": [
        {
          "output_type": "stream",
          "name": "stdout",
          "text": [
            "Epoch [0], val_loss: 1.1225, val_acc: 0.8066\n",
            "Epoch [1], val_loss: 1.0491, val_acc: 0.8144\n",
            "Epoch [2], val_loss: 0.9890, val_acc: 0.8200\n",
            "Epoch [3], val_loss: 0.9390, val_acc: 0.8243\n",
            "Epoch [4], val_loss: 0.8966, val_acc: 0.8279\n",
            "CPU times: user 42.7 s, sys: 99 ms, total: 42.8 s\n",
            "Wall time: 44.1 s\n"
          ]
        }
      ]
    },
    {
      "cell_type": "code",
      "source": [
        "%%time\n",
        "history3 = fit(5, 0.001, model, train_loader, val_loader)"
      ],
      "metadata": {
        "colab": {
          "base_uri": "https://localhost:8080/"
        },
        "id": "ybc_52uaN8I_",
        "outputId": "4101d63a-9b60-4f12-8d4a-068f410ecd78"
      },
      "execution_count": 69,
      "outputs": [
        {
          "output_type": "stream",
          "name": "stdout",
          "text": [
            "Epoch [0], val_loss: 0.8603, val_acc: 0.8310\n",
            "Epoch [1], val_loss: 0.8288, val_acc: 0.8350\n",
            "Epoch [2], val_loss: 0.8013, val_acc: 0.8382\n",
            "Epoch [3], val_loss: 0.7769, val_acc: 0.8408\n",
            "Epoch [4], val_loss: 0.7552, val_acc: 0.8433\n",
            "CPU times: user 43.1 s, sys: 95.2 ms, total: 43.2 s\n",
            "Wall time: 43.6 s\n"
          ]
        }
      ]
    },
    {
      "cell_type": "code",
      "source": [
        "%%time\n",
        "history4 = fit(5, 0.001, model, train_loader, val_loader)"
      ],
      "metadata": {
        "colab": {
          "base_uri": "https://localhost:8080/"
        },
        "id": "cSEqL6FHN8Gu",
        "outputId": "4c2c2b5c-8dff-4e9e-8a4f-5d4c037e7192"
      },
      "execution_count": 70,
      "outputs": [
        {
          "output_type": "stream",
          "name": "stdout",
          "text": [
            "Epoch [0], val_loss: 0.7357, val_acc: 0.8444\n",
            "Epoch [1], val_loss: 0.7181, val_acc: 0.8461\n",
            "Epoch [2], val_loss: 0.7022, val_acc: 0.8479\n",
            "Epoch [3], val_loss: 0.6876, val_acc: 0.8487\n",
            "Epoch [4], val_loss: 0.6742, val_acc: 0.8502\n",
            "CPU times: user 42.5 s, sys: 108 ms, total: 42.6 s\n",
            "Wall time: 42.7 s\n"
          ]
        }
      ]
    },
    {
      "cell_type": "code",
      "source": [
        "%%time\n",
        "history5 = fit(5, 0.001, model, train_loader, val_loader)"
      ],
      "metadata": {
        "colab": {
          "base_uri": "https://localhost:8080/"
        },
        "id": "c5fPVYzsOSP_",
        "outputId": "9327416b-65f9-4b37-9bea-596be1e5cafe"
      },
      "execution_count": 71,
      "outputs": [
        {
          "output_type": "stream",
          "name": "stdout",
          "text": [
            "Epoch [0], val_loss: 0.6619, val_acc: 0.8517\n",
            "Epoch [1], val_loss: 0.6505, val_acc: 0.8529\n",
            "Epoch [2], val_loss: 0.6400, val_acc: 0.8534\n",
            "Epoch [3], val_loss: 0.6301, val_acc: 0.8544\n",
            "Epoch [4], val_loss: 0.6210, val_acc: 0.8555\n",
            "CPU times: user 42.8 s, sys: 109 ms, total: 42.9 s\n",
            "Wall time: 43.1 s\n"
          ]
        }
      ]
    },
    {
      "cell_type": "code",
      "source": [
        "history6 = fit(30, 0.001, model, train_loader, val_loader)"
      ],
      "metadata": {
        "colab": {
          "base_uri": "https://localhost:8080/"
        },
        "id": "sMRDMtxOV4Bq",
        "outputId": "f1ccda58-4de7-40bd-f862-6c426d983144"
      },
      "execution_count": 74,
      "outputs": [
        {
          "output_type": "stream",
          "name": "stdout",
          "text": [
            "Epoch [0], val_loss: 0.6124, val_acc: 0.8571\n",
            "Epoch [1], val_loss: 0.6043, val_acc: 0.8579\n",
            "Epoch [2], val_loss: 0.5968, val_acc: 0.8584\n",
            "Epoch [3], val_loss: 0.5896, val_acc: 0.8605\n",
            "Epoch [4], val_loss: 0.5829, val_acc: 0.8614\n",
            "Epoch [5], val_loss: 0.5765, val_acc: 0.8622\n",
            "Epoch [6], val_loss: 0.5704, val_acc: 0.8629\n",
            "Epoch [7], val_loss: 0.5647, val_acc: 0.8643\n",
            "Epoch [8], val_loss: 0.5593, val_acc: 0.8649\n",
            "Epoch [9], val_loss: 0.5540, val_acc: 0.8659\n",
            "Epoch [10], val_loss: 0.5491, val_acc: 0.8665\n",
            "Epoch [11], val_loss: 0.5443, val_acc: 0.8674\n",
            "Epoch [12], val_loss: 0.5398, val_acc: 0.8679\n",
            "Epoch [13], val_loss: 0.5355, val_acc: 0.8686\n",
            "Epoch [14], val_loss: 0.5313, val_acc: 0.8689\n",
            "Epoch [15], val_loss: 0.5273, val_acc: 0.8693\n",
            "Epoch [16], val_loss: 0.5235, val_acc: 0.8699\n",
            "Epoch [17], val_loss: 0.5198, val_acc: 0.8704\n",
            "Epoch [18], val_loss: 0.5162, val_acc: 0.8707\n",
            "Epoch [19], val_loss: 0.5128, val_acc: 0.8709\n",
            "Epoch [20], val_loss: 0.5095, val_acc: 0.8714\n",
            "Epoch [21], val_loss: 0.5063, val_acc: 0.8717\n",
            "Epoch [22], val_loss: 0.5032, val_acc: 0.8724\n",
            "Epoch [23], val_loss: 0.5002, val_acc: 0.8729\n",
            "Epoch [24], val_loss: 0.4974, val_acc: 0.8735\n",
            "Epoch [25], val_loss: 0.4946, val_acc: 0.8740\n",
            "Epoch [26], val_loss: 0.4919, val_acc: 0.8743\n",
            "Epoch [27], val_loss: 0.4892, val_acc: 0.8746\n",
            "Epoch [28], val_loss: 0.4867, val_acc: 0.8750\n",
            "Epoch [29], val_loss: 0.4843, val_acc: 0.8755\n"
          ]
        }
      ]
    },
    {
      "cell_type": "code",
      "source": [
        "history7 = fit(20, 0.01, model, train_loader, val_loader)"
      ],
      "metadata": {
        "colab": {
          "base_uri": "https://localhost:8080/"
        },
        "id": "TFM0u1IxalyO",
        "outputId": "d7de25d2-f145-4cde-894e-c014991e4d3e"
      },
      "execution_count": 77,
      "outputs": [
        {
          "output_type": "stream",
          "name": "stdout",
          "text": [
            "Epoch [0], val_loss: 0.4634, val_acc: 0.8780\n",
            "Epoch [1], val_loss: 0.4467, val_acc: 0.8823\n",
            "Epoch [2], val_loss: 0.4334, val_acc: 0.8865\n",
            "Epoch [3], val_loss: 0.4225, val_acc: 0.8884\n",
            "Epoch [4], val_loss: 0.4129, val_acc: 0.8904\n",
            "Epoch [5], val_loss: 0.4050, val_acc: 0.8917\n",
            "Epoch [6], val_loss: 0.3982, val_acc: 0.8924\n",
            "Epoch [7], val_loss: 0.3919, val_acc: 0.8944\n",
            "Epoch [8], val_loss: 0.3863, val_acc: 0.8954\n",
            "Epoch [9], val_loss: 0.3816, val_acc: 0.8967\n",
            "Epoch [10], val_loss: 0.3770, val_acc: 0.8978\n",
            "Epoch [11], val_loss: 0.3731, val_acc: 0.8987\n",
            "Epoch [12], val_loss: 0.3694, val_acc: 0.8990\n",
            "Epoch [13], val_loss: 0.3661, val_acc: 0.9004\n",
            "Epoch [14], val_loss: 0.3627, val_acc: 0.9006\n",
            "Epoch [15], val_loss: 0.3600, val_acc: 0.9020\n",
            "Epoch [16], val_loss: 0.3574, val_acc: 0.9020\n",
            "Epoch [17], val_loss: 0.3547, val_acc: 0.9028\n",
            "Epoch [18], val_loss: 0.3524, val_acc: 0.9040\n",
            "Epoch [19], val_loss: 0.3502, val_acc: 0.9046\n"
          ]
        }
      ]
    },
    {
      "cell_type": "code",
      "source": [
        "history = [result0] + history1 + history2 + history3 + history4 + history5 + history6 + history7\n"
      ],
      "metadata": {
        "id": "WcXUDbkCN8D2"
      },
      "execution_count": 78,
      "outputs": []
    },
    {
      "cell_type": "code",
      "source": [
        "accuracies = [result['val_acc'] for result in history]\n",
        "plt.plot(accuracies, '-x')\n",
        "plt.xlabel('epoch')\n",
        "plt.ylabel('accuracy')\n",
        "plt.title('Accuracy vs. No. of epochs');"
      ],
      "metadata": {
        "colab": {
          "base_uri": "https://localhost:8080/",
          "height": 295
        },
        "id": "Tc1mhyk1TSnz",
        "outputId": "bcc0c64c-6439-4ffb-9891-8b9df6b59607"
      },
      "execution_count": 79,
      "outputs": [
        {
          "output_type": "display_data",
          "data": {
            "text/plain": [
              "<Figure size 432x288 with 1 Axes>"
            ],
            "image/png": "[encoded data removed]"
          },
          "metadata": {
            "needs_background": "light"
          }
        }
      ]
    },
    {
      "cell_type": "code",
      "source": [],
      "metadata": {
        "id": "gnrcVwEeN7-Y"
      },
      "execution_count": 72,
      "outputs": []
    },
    {
      "cell_type": "code",
      "source": [],
      "metadata": {
        "id": "dRSgM6ecN77Q"
      },
      "execution_count": 72,
      "outputs": []
    },
    {
      "cell_type": "code",
      "source": [],
      "metadata": {
        "id": "j9GOYHKuN74U"
      },
      "execution_count": 72,
      "outputs": []
    },
    {
      "cell_type": "code",
      "source": [],
      "metadata": {
        "id": "DvmtvOGfN7u_"
      },
      "execution_count": 72,
      "outputs": []
    },
    {
      "cell_type": "code",
      "source": [],
      "metadata": {
        "id": "1lfJHQBmN7sB"
      },
      "execution_count": 72,
      "outputs": []
    }
  ]
}