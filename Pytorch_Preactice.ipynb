{
  "nbformat": 4,
  "nbformat_minor": 0,
  "metadata": {
    "colab": {
      "provenance": [],
      "toc_visible": true,
      "authorship_tag": "ABX9TyMR/+U54oFfZGmlV5AeXXV1",
      "include_colab_link": true
    },
    "kernelspec": {
      "name": "python3",
      "display_name": "Python 3"
    },
    "language_info": {
      "name": "python"
    }
  },
  "cells": [
    {
      "cell_type": "markdown",
      "metadata": {
        "id": "view-in-github",
        "colab_type": "text"
      },
      "source": [
        "<a href=\"https://colab.research.google.com/github/AHQJOHN/6-Bonus/blob/main/Pytorch_Preactice.ipynb\" target=\"_parent\"><img src=\"https://colab.research.google.com/assets/colab-badge.svg\" alt=\"Open In Colab\"/></a>"
      ]
    },
    {
      "cell_type": "code",
      "source": [],
      "metadata": {
        "id": "BfGwn5uKXhg7"
      },
      "execution_count": null,
      "outputs": []
    },
    {
      "cell_type": "markdown",
      "source": [
        "https://pytorch.org/tutorials/beginner/ptcheat.html "
      ],
      "metadata": {
        "id": "Q2Bcii3lXjyw"
      }
    },
    {
      "cell_type": "code",
      "source": [
        "import torch"
      ],
      "metadata": {
        "id": "CDzqcC6rHl0g"
      },
      "execution_count": null,
      "outputs": []
    },
    {
      "cell_type": "code",
      "execution_count": null,
      "metadata": {
        "colab": {
          "base_uri": "https://localhost:8080/"
        },
        "id": "4yQdONdVpBRU",
        "outputId": "b6e185ac-a05a-485d-f391-9514d7cd74b1"
      },
      "outputs": [
        {
          "output_type": "stream",
          "name": "stdout",
          "text": [
            "tensor([ 1.,  6., 11., 16.]) tensor([21., 26., 31., 36.])\n"
          ]
        }
      ],
      "source": [
        "a = torch.arange(1.,20,5)\n",
        "b = torch.arange(21.,40,5)\n",
        "print(a,b)"
      ]
    },
    {
      "cell_type": "markdown",
      "source": [
        "## Reshpe function variations \n",
        "#### Here,   tensor.reshape(Higher_dim,....., depth, row, column)\n",
        "#### Possible if total number of elements is = column * row * depth * .... * higher_dim"
      ],
      "metadata": {
        "id": "NBoADMB_MJvR"
      }
    },
    {
      "cell_type": "code",
      "source": [
        "c= torch.linspace(1,3,16)\n",
        "c = c.reshape(4,4)\n",
        "c"
      ],
      "metadata": {
        "colab": {
          "base_uri": "https://localhost:8080/"
        },
        "id": "i8fc7-w9Jr25",
        "outputId": "d734644e-6d2f-4137-af11-15b2fd864f42"
      },
      "execution_count": null,
      "outputs": [
        {
          "output_type": "execute_result",
          "data": {
            "text/plain": [
              "tensor([[1.0000, 1.1333, 1.2667, 1.4000],\n",
              "        [1.5333, 1.6667, 1.8000, 1.9333],\n",
              "        [2.0667, 2.2000, 2.3333, 2.4667],\n",
              "        [2.6000, 2.7333, 2.8667, 3.0000]])"
            ]
          },
          "metadata": {},
          "execution_count": 22
        }
      ]
    },
    {
      "cell_type": "code",
      "source": [
        "torch.linspace(1,3,32).reshape(2,4,4)"
      ],
      "metadata": {
        "colab": {
          "base_uri": "https://localhost:8080/"
        },
        "id": "ws_E7UZBKRD_",
        "outputId": "8f3b4c88-5949-4c7f-e28d-1494e2250d5c"
      },
      "execution_count": null,
      "outputs": [
        {
          "output_type": "execute_result",
          "data": {
            "text/plain": [
              "tensor([[[1.0000, 1.0645, 1.1290, 1.1935],\n",
              "         [1.2581, 1.3226, 1.3871, 1.4516],\n",
              "         [1.5161, 1.5806, 1.6452, 1.7097],\n",
              "         [1.7742, 1.8387, 1.9032, 1.9677]],\n",
              "\n",
              "        [[2.0323, 2.0968, 2.1613, 2.2258],\n",
              "         [2.2903, 2.3548, 2.4194, 2.4839],\n",
              "         [2.5484, 2.6129, 2.6774, 2.7419],\n",
              "         [2.8065, 2.8710, 2.9355, 3.0000]]])"
            ]
          },
          "metadata": {},
          "execution_count": 32
        }
      ]
    },
    {
      "cell_type": "code",
      "source": [
        "torch.linspace(1,3,32).reshape(4,4,2)"
      ],
      "metadata": {
        "colab": {
          "base_uri": "https://localhost:8080/"
        },
        "id": "giGgQGGzL1ax",
        "outputId": "c5854aeb-c0aa-413e-f270-bd1f450e65c4"
      },
      "execution_count": null,
      "outputs": [
        {
          "output_type": "execute_result",
          "data": {
            "text/plain": [
              "tensor([[[1.0000, 1.0645],\n",
              "         [1.1290, 1.1935],\n",
              "         [1.2581, 1.3226],\n",
              "         [1.3871, 1.4516]],\n",
              "\n",
              "        [[1.5161, 1.5806],\n",
              "         [1.6452, 1.7097],\n",
              "         [1.7742, 1.8387],\n",
              "         [1.9032, 1.9677]],\n",
              "\n",
              "        [[2.0323, 2.0968],\n",
              "         [2.1613, 2.2258],\n",
              "         [2.2903, 2.3548],\n",
              "         [2.4194, 2.4839]],\n",
              "\n",
              "        [[2.5484, 2.6129],\n",
              "         [2.6774, 2.7419],\n",
              "         [2.8065, 2.8710],\n",
              "         [2.9355, 3.0000]]])"
            ]
          },
          "metadata": {},
          "execution_count": 37
        }
      ]
    },
    {
      "cell_type": "code",
      "source": [
        "torch.linspace(1,3,32).reshape(1,4,4,2)"
      ],
      "metadata": {
        "colab": {
          "base_uri": "https://localhost:8080/"
        },
        "id": "EBRUHYqTLvqC",
        "outputId": "92b48bcd-918d-47d3-a858-ec2215c1a1ab"
      },
      "execution_count": null,
      "outputs": [
        {
          "output_type": "execute_result",
          "data": {
            "text/plain": [
              "tensor([[[[1.0000, 1.0645],\n",
              "          [1.1290, 1.1935],\n",
              "          [1.2581, 1.3226],\n",
              "          [1.3871, 1.4516]],\n",
              "\n",
              "         [[1.5161, 1.5806],\n",
              "          [1.6452, 1.7097],\n",
              "          [1.7742, 1.8387],\n",
              "          [1.9032, 1.9677]],\n",
              "\n",
              "         [[2.0323, 2.0968],\n",
              "          [2.1613, 2.2258],\n",
              "          [2.2903, 2.3548],\n",
              "          [2.4194, 2.4839]],\n",
              "\n",
              "         [[2.5484, 2.6129],\n",
              "          [2.6774, 2.7419],\n",
              "          [2.8065, 2.8710],\n",
              "          [2.9355, 3.0000]]]])"
            ]
          },
          "metadata": {},
          "execution_count": 36
        }
      ]
    },
    {
      "cell_type": "code",
      "source": [
        "torch.linspace(1,3,96).reshape(3,4,4,2)"
      ],
      "metadata": {
        "colab": {
          "base_uri": "https://localhost:8080/"
        },
        "id": "w_IFGWM4LcH2",
        "outputId": "53ded491-3c08-4eee-9d64-f1eb22489004"
      },
      "execution_count": null,
      "outputs": [
        {
          "output_type": "execute_result",
          "data": {
            "text/plain": [
              "tensor([[[[1.0000, 1.0211],\n",
              "          [1.0421, 1.0632],\n",
              "          [1.0842, 1.1053],\n",
              "          [1.1263, 1.1474]],\n",
              "\n",
              "         [[1.1684, 1.1895],\n",
              "          [1.2105, 1.2316],\n",
              "          [1.2526, 1.2737],\n",
              "          [1.2947, 1.3158]],\n",
              "\n",
              "         [[1.3368, 1.3579],\n",
              "          [1.3789, 1.4000],\n",
              "          [1.4211, 1.4421],\n",
              "          [1.4632, 1.4842]],\n",
              "\n",
              "         [[1.5053, 1.5263],\n",
              "          [1.5474, 1.5684],\n",
              "          [1.5895, 1.6105],\n",
              "          [1.6316, 1.6526]]],\n",
              "\n",
              "\n",
              "        [[[1.6737, 1.6947],\n",
              "          [1.7158, 1.7368],\n",
              "          [1.7579, 1.7789],\n",
              "          [1.8000, 1.8211]],\n",
              "\n",
              "         [[1.8421, 1.8632],\n",
              "          [1.8842, 1.9053],\n",
              "          [1.9263, 1.9474],\n",
              "          [1.9684, 1.9895]],\n",
              "\n",
              "         [[2.0105, 2.0316],\n",
              "          [2.0526, 2.0737],\n",
              "          [2.0947, 2.1158],\n",
              "          [2.1368, 2.1579]],\n",
              "\n",
              "         [[2.1789, 2.2000],\n",
              "          [2.2211, 2.2421],\n",
              "          [2.2632, 2.2842],\n",
              "          [2.3053, 2.3263]]],\n",
              "\n",
              "\n",
              "        [[[2.3474, 2.3684],\n",
              "          [2.3895, 2.4105],\n",
              "          [2.4316, 2.4526],\n",
              "          [2.4737, 2.4947]],\n",
              "\n",
              "         [[2.5158, 2.5368],\n",
              "          [2.5579, 2.5789],\n",
              "          [2.6000, 2.6211],\n",
              "          [2.6421, 2.6632]],\n",
              "\n",
              "         [[2.6842, 2.7053],\n",
              "          [2.7263, 2.7474],\n",
              "          [2.7684, 2.7895],\n",
              "          [2.8105, 2.8316]],\n",
              "\n",
              "         [[2.8526, 2.8737],\n",
              "          [2.8947, 2.9158],\n",
              "          [2.9368, 2.9579],\n",
              "          [2.9789, 3.0000]]]])"
            ]
          },
          "metadata": {},
          "execution_count": 35
        }
      ]
    },
    {
      "cell_type": "markdown",
      "source": [
        "## Transpose"
      ],
      "metadata": {
        "id": "0xAT6ZrcNt5S"
      }
    },
    {
      "cell_type": "code",
      "source": [
        "b = torch.arange(21.,40,5).reshape(2,2)\n",
        "print('b= \\n',b, '\\nb_transpose= \\n',b.t())"
      ],
      "metadata": {
        "colab": {
          "base_uri": "https://localhost:8080/"
        },
        "id": "qAmmkkEjNEOu",
        "outputId": "82db774f-ae02-4b1f-b5de-d5faf0ecc99f"
      },
      "execution_count": null,
      "outputs": [
        {
          "output_type": "stream",
          "name": "stdout",
          "text": [
            "b= \n",
            " tensor([[21., 26.],\n",
            "        [31., 36.]]) \n",
            "b_transpose= \n",
            " tensor([[21., 31.],\n",
            "        [26., 36.]])\n"
          ]
        }
      ]
    },
    {
      "cell_type": "code",
      "source": [
        "print(torch.randint(0,18,(2,3,3)))"
      ],
      "metadata": {
        "colab": {
          "base_uri": "https://localhost:8080/"
        },
        "id": "GJNuvYe8ULE_",
        "outputId": "0e824a19-d9c7-4b75-b57e-64d8b5941722"
      },
      "execution_count": null,
      "outputs": [
        {
          "output_type": "stream",
          "name": "stdout",
          "text": [
            "tensor([[[17, 14,  6],\n",
            "         [10,  1, 15],\n",
            "         [ 2,  6,  8]],\n",
            "\n",
            "        [[13, 13,  2],\n",
            "         [ 5,  7, 15],\n",
            "         [14, 13, 12]]])\n"
          ]
        }
      ]
    },
    {
      "cell_type": "code",
      "source": [
        "import random\n",
        "# random.seed(10)\n",
        "torch.manual_seed(10)"
      ],
      "metadata": {
        "colab": {
          "base_uri": "https://localhost:8080/"
        },
        "id": "_Pjy6BUIUxAi",
        "outputId": "4b7a4bbb-3350-4b6a-f948-568c18e03cb4"
      },
      "execution_count": null,
      "outputs": [
        {
          "output_type": "execute_result",
          "data": {
            "text/plain": [
              "<torch._C.Generator at 0x7fa7bc1698b0>"
            ]
          },
          "metadata": {},
          "execution_count": 58
        }
      ]
    },
    {
      "cell_type": "code",
      "source": [
        "torch.manual_seed(10)\n",
        "print(torch.randn(3,3))"
      ],
      "metadata": {
        "colab": {
          "base_uri": "https://localhost:8080/"
        },
        "id": "WmvfMcntUao3",
        "outputId": "d047d3e1-572c-4326-c5e4-1a019412eda8"
      },
      "execution_count": null,
      "outputs": [
        {
          "output_type": "stream",
          "name": "stdout",
          "text": [
            "tensor([[-0.6014, -1.0122, -0.3023],\n",
            "        [-1.2277,  0.9198, -0.3485],\n",
            "        [-0.8692, -0.9582, -1.1920]])\n"
          ]
        }
      ]
    },
    {
      "cell_type": "code",
      "source": [
        "torch.manual_seed(10)\n",
        "print(torch.randn(3,3))"
      ],
      "metadata": {
        "colab": {
          "base_uri": "https://localhost:8080/"
        },
        "id": "2Ho-hUi4Uk1-",
        "outputId": "4bcd22d5-ba2a-4a96-b603-65a399425627"
      },
      "execution_count": null,
      "outputs": [
        {
          "output_type": "stream",
          "name": "stdout",
          "text": [
            "tensor([[-0.6014, -1.0122, -0.3023],\n",
            "        [-1.2277,  0.9198, -0.3485],\n",
            "        [-0.8692, -0.9582, -1.1920]])\n"
          ]
        }
      ]
    },
    {
      "cell_type": "code",
      "source": [],
      "metadata": {
        "id": "2nCIhzu0Vl5Q"
      },
      "execution_count": null,
      "outputs": []
    },
    {
      "cell_type": "markdown",
      "source": [
        "### With linear regression"
      ],
      "metadata": {
        "id": "kTxNH3wkVnks"
      }
    },
    {
      "cell_type": "code",
      "source": [
        "import numpy as np\n",
        "import torch"
      ],
      "metadata": {
        "id": "PTzZStcOtO5p"
      },
      "execution_count": 19,
      "outputs": []
    },
    {
      "cell_type": "code",
      "source": [
        "inputs = np.array([[73, 67, 43], \n",
        "                   [91, 88, 64], \n",
        "                   [87, 134, 58], \n",
        "                   [102, 43, 37], \n",
        "                   [69, 96, 70]], dtype='float32')"
      ],
      "metadata": {
        "id": "A3eWSPbFtP8x"
      },
      "execution_count": 20,
      "outputs": []
    },
    {
      "cell_type": "code",
      "source": [
        "targets = np.array([[56, 70], \n",
        "                    [81, 101], \n",
        "                    [119, 133], \n",
        "                    [22, 37], \n",
        "                    [103, 119]], dtype='float32')"
      ],
      "metadata": {
        "id": "WwXXnZKvtRko"
      },
      "execution_count": 21,
      "outputs": []
    },
    {
      "cell_type": "code",
      "source": [
        "inputs = torch.from_numpy(inputs)\n",
        "targets = torch.from_numpy(targets)\n",
        "print(inputs)\n",
        "print(targets)"
      ],
      "metadata": {
        "colab": {
          "base_uri": "https://localhost:8080/"
        },
        "id": "9Ly8rXB0tRhd",
        "outputId": "328c19c1-7409-4ff8-fb3c-871e6c2db89e"
      },
      "execution_count": 22,
      "outputs": [
        {
          "output_type": "stream",
          "name": "stdout",
          "text": [
            "tensor([[ 73.,  67.,  43.],\n",
            "        [ 91.,  88.,  64.],\n",
            "        [ 87., 134.,  58.],\n",
            "        [102.,  43.,  37.],\n",
            "        [ 69.,  96.,  70.]])\n",
            "tensor([[ 56.,  70.],\n",
            "        [ 81., 101.],\n",
            "        [119., 133.],\n",
            "        [ 22.,  37.],\n",
            "        [103., 119.]])\n"
          ]
        }
      ]
    },
    {
      "cell_type": "code",
      "source": [
        "w = torch.randn(2, 3, requires_grad=True)\n",
        "b = torch.randn(2, requires_grad=True)\n",
        "print(w)\n",
        "print(b)"
      ],
      "metadata": {
        "colab": {
          "base_uri": "https://localhost:8080/"
        },
        "id": "Y0adzmb6tRd6",
        "outputId": "49225d1f-d6e8-4091-9eb9-dc5a262dbc7c"
      },
      "execution_count": 23,
      "outputs": [
        {
          "output_type": "stream",
          "name": "stdout",
          "text": [
            "tensor([[ 0.1394,  1.3490, -0.9250],\n",
            "        [ 0.4801,  0.7037, -1.6663]], requires_grad=True)\n",
            "tensor([ 0.9253, -1.5819], requires_grad=True)\n"
          ]
        }
      ]
    },
    {
      "cell_type": "code",
      "source": [
        "def model(x):\n",
        "    return x @ w.t() + b"
      ],
      "metadata": {
        "id": "mjwbjQVAtRXN"
      },
      "execution_count": 24,
      "outputs": []
    },
    {
      "cell_type": "code",
      "source": [
        "inputs @ w.t()"
      ],
      "metadata": {
        "colab": {
          "base_uri": "https://localhost:8080/"
        },
        "id": "ssVAyNCmtRTa",
        "outputId": "30409b30-1775-4504-8337-c299cb8a38ae"
      },
      "execution_count": 26,
      "outputs": [
        {
          "output_type": "execute_result",
          "data": {
            "text/plain": [
              "tensor([[ 60.7841,  10.5372],\n",
              "        [ 72.1973,  -1.0378],\n",
              "        [139.2417,  39.4080],\n",
              "        [ 38.0021,  17.5692],\n",
              "        [ 74.3718, -15.9677]], grad_fn=<MmBackward0>)"
            ]
          },
          "metadata": {},
          "execution_count": 26
        }
      ]
    },
    {
      "cell_type": "code",
      "source": [
        "inputs @ w.t() + b"
      ],
      "metadata": {
        "colab": {
          "base_uri": "https://localhost:8080/"
        },
        "id": "zGvPRf_2tRQR",
        "outputId": "43c6393d-5335-4fd6-d96d-9e80f63b49c9"
      },
      "execution_count": 28,
      "outputs": [
        {
          "output_type": "execute_result",
          "data": {
            "text/plain": [
              "tensor([[ 61.7093,   8.9554],\n",
              "        [ 73.1225,  -2.6196],\n",
              "        [140.1669,  37.8261],\n",
              "        [ 38.9273,  15.9873],\n",
              "        [ 75.2971, -17.5496]], grad_fn=<AddBackward0>)"
            ]
          },
          "metadata": {},
          "execution_count": 28
        }
      ]
    },
    {
      "cell_type": "code",
      "source": [
        "preds = model(inputs)\n",
        "print(preds)"
      ],
      "metadata": {
        "colab": {
          "base_uri": "https://localhost:8080/"
        },
        "id": "89vRIH_PtRNL",
        "outputId": "d115eb18-2a81-4569-92c9-0ed06e0982d0"
      },
      "execution_count": 29,
      "outputs": [
        {
          "output_type": "stream",
          "name": "stdout",
          "text": [
            "tensor([[ 61.7093,   8.9554],\n",
            "        [ 73.1225,  -2.6196],\n",
            "        [140.1669,  37.8261],\n",
            "        [ 38.9273,  15.9873],\n",
            "        [ 75.2971, -17.5496]], grad_fn=<AddBackward0>)\n"
          ]
        }
      ]
    },
    {
      "cell_type": "code",
      "source": [
        "print(targets)"
      ],
      "metadata": {
        "colab": {
          "base_uri": "https://localhost:8080/"
        },
        "id": "nAcHfM1ytRJ9",
        "outputId": "7d19080f-9b7a-408b-9697-318f15aaa147"
      },
      "execution_count": 30,
      "outputs": [
        {
          "output_type": "stream",
          "name": "stdout",
          "text": [
            "tensor([[ 56.,  70.],\n",
            "        [ 81., 101.],\n",
            "        [119., 133.],\n",
            "        [ 22.,  37.],\n",
            "        [103., 119.]])\n"
          ]
        }
      ]
    },
    {
      "cell_type": "code",
      "source": [
        "def mse(t1, t2):\n",
        "    diff = t1 - t2\n",
        "    return torch.sum(diff * diff) / diff.numel()"
      ],
      "metadata": {
        "id": "UYyqORLRtRGy"
      },
      "execution_count": 31,
      "outputs": []
    },
    {
      "cell_type": "code",
      "source": [
        "loss = mse(preds, targets)\n",
        "print(loss)"
      ],
      "metadata": {
        "colab": {
          "base_uri": "https://localhost:8080/"
        },
        "id": "dnEdANtFtRDh",
        "outputId": "6277ea96-eae7-4f10-b762-4a8b27a83071"
      },
      "execution_count": 32,
      "outputs": [
        {
          "output_type": "stream",
          "name": "stdout",
          "text": [
            "tensor(4420.5547, grad_fn=<DivBackward0>)\n"
          ]
        }
      ]
    },
    {
      "cell_type": "code",
      "source": [
        "loss.backward()"
      ],
      "metadata": {
        "id": "XGfhbrc_tQ-0"
      },
      "execution_count": 33,
      "outputs": []
    },
    {
      "cell_type": "code",
      "source": [
        "print(w)\n",
        "print(w.grad)"
      ],
      "metadata": {
        "colab": {
          "base_uri": "https://localhost:8080/"
        },
        "id": "uNkkVT3HtQ3p",
        "outputId": "70fc6ff8-10a2-4682-9cb9-7cc511825e87"
      },
      "execution_count": 34,
      "outputs": [
        {
          "output_type": "stream",
          "name": "stdout",
          "text": [
            "tensor([[ 0.1394,  1.3490, -0.9250],\n",
            "        [ 0.4801,  0.7037, -1.6663]], requires_grad=True)\n",
            "tensor([[  271.3081,   118.8144,   -68.7736],\n",
            "        [-6746.1982, -7994.8257, -5022.5210]])\n"
          ]
        }
      ]
    },
    {
      "cell_type": "markdown",
      "source": [
        "The loss is a quadratic function of our weights and biases, and our objective is to find the set of weights where the loss is the lowest. If we plot a graph of the loss w.r.t any individual weight or bias element, it will look like the figure shown below. An important insight from calculus is that the gradient indicates the rate of change of the loss, i.e., the loss function's slope w.r.t. the weights and biases.\n",
        "\n",
        "\n",
        "\n",
        "If a gradient element is positive:\n",
        "\n",
        "increasing the weight element's value slightly will increase the loss\n",
        "decreasing the weight element's value slightly will decrease the loss\n",
        "postive-gradient\n",
        "\n",
        "\n",
        "\n",
        "If a gradient element is negative:\n",
        "\n",
        "increasing the weight element's value slightly will decrease the loss\n",
        "decreasing the weight element's value slightly will increase the loss\n",
        "negative=gradient\n",
        "\n",
        "\n",
        "\n",
        "The increase or decrease in the loss by changing a weight element is proportional to the gradient of the loss w.r.t. that element. This observation forms the basis of the gradient descent optimization algorithm that we'll use to improve our model (by descending along the gradient).\n",
        "\n",
        "We can subtract from each weight element a small quantity proportional to the derivative of the loss w.r.t. that element to reduce the loss slightly. \n",
        "https://i.imgur.com/WLzJ4xP.png \n",
        "https://i.imgur.com/dvG2fxU.png "
      ],
      "metadata": {
        "id": "wMbwCMTdAKED"
      }
    },
    {
      "cell_type": "markdown",
      "source": [
        "![WLzJ4xP.png](data:image/png;base64,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)\n",
        "![dvG2fxU.png](data:image/png;base64,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)"
      ],
      "metadata": {
        "id": "BbSSZhFuOZzQ"
      }
    },
    {
      "cell_type": "code",
      "source": [
        "w\n",
        "w.grad"
      ],
      "metadata": {
        "colab": {
          "base_uri": "https://localhost:8080/"
        },
        "id": "iRdLYVa8E1mB",
        "outputId": "ca2d9e64-279a-4bd6-8733-2b37816b4674"
      },
      "execution_count": 35,
      "outputs": [
        {
          "output_type": "execute_result",
          "data": {
            "text/plain": [
              "tensor([[  271.3081,   118.8144,   -68.7736],\n",
              "        [-6746.1982, -7994.8257, -5022.5210]])"
            ]
          },
          "metadata": {},
          "execution_count": 35
        }
      ]
    },
    {
      "cell_type": "code",
      "source": [
        "with torch.no_grad():\n",
        "    w -= w.grad * 1e-5\n",
        "    b -= b.grad * 1e-5"
      ],
      "metadata": {
        "id": "KjTf552ktQvs"
      },
      "execution_count": 36,
      "outputs": []
    },
    {
      "cell_type": "code",
      "source": [
        "loss = mse(preds, targets)\n",
        "print(loss)"
      ],
      "metadata": {
        "colab": {
          "base_uri": "https://localhost:8080/"
        },
        "id": "hU83Qdy2-s_k",
        "outputId": "f5f46da9-7a05-40dd-dea8-4fbbe06eec13"
      },
      "execution_count": 37,
      "outputs": [
        {
          "output_type": "stream",
          "name": "stdout",
          "text": [
            "tensor(4420.5547, grad_fn=<DivBackward0>)\n"
          ]
        }
      ]
    },
    {
      "cell_type": "code",
      "source": [
        "import matplotlib.pyplot as plt"
      ],
      "metadata": {
        "id": "eL5IUNY0-s6A"
      },
      "execution_count": 41,
      "outputs": []
    },
    {
      "cell_type": "code",
      "source": [
        "plt.plot(w.grad.numpy())"
      ],
      "metadata": {
        "colab": {
          "base_uri": "https://localhost:8080/",
          "height": 317
        },
        "id": "CmHDwZD6-s26",
        "outputId": "4e56fc12-f216-40e0-e47e-81d7313fb45c"
      },
      "execution_count": 44,
      "outputs": [
        {
          "output_type": "execute_result",
          "data": {
            "text/plain": [
              "[<matplotlib.lines.Line2D at 0x7f9c34eeb2e0>,\n",
              " <matplotlib.lines.Line2D at 0x7f9c34eeb340>,\n",
              " <matplotlib.lines.Line2D at 0x7f9c34eeb460>]"
            ]
          },
          "metadata": {},
          "execution_count": 44
        },
        {
          "output_type": "display_data",
          "data": {
            "text/plain": [
              "<Figure size 432x288 with 1 Axes>"
            ],
            "image/png": "[encoded data removed]"
          },
          "metadata": {
            "needs_background": "light"
          }
        }
      ]
    },
    {
      "cell_type": "code",
      "source": [
        "w.grad.zero_()\n",
        "b.grad.zero_()\n",
        "print(w.grad)\n",
        "print(b.grad)"
      ],
      "metadata": {
        "colab": {
          "base_uri": "https://localhost:8080/"
        },
        "id": "LiSK_odV-sz_",
        "outputId": "caed3092-a32f-436e-d958-3a2fe37f12cd"
      },
      "execution_count": 45,
      "outputs": [
        {
          "output_type": "stream",
          "name": "stdout",
          "text": [
            "tensor([[0., 0., 0.],\n",
            "        [0., 0., 0.]])\n",
            "tensor([0., 0.])\n"
          ]
        }
      ]
    },
    {
      "cell_type": "code",
      "source": [
        "preds = model(inputs)\n",
        "print(preds)"
      ],
      "metadata": {
        "colab": {
          "base_uri": "https://localhost:8080/"
        },
        "id": "uJ3VydIC-swb",
        "outputId": "286684c3-0f93-4798-901a-241bccceb670"
      },
      "execution_count": 46,
      "outputs": [
        {
          "output_type": "stream",
          "name": "stdout",
          "text": [
            "tensor([[ 61.4612,  21.3971],\n",
            "        [ 72.8151,  13.7701],\n",
            "        [139.8116,  57.3223],\n",
            "        [ 38.6249,  28.1654],\n",
            "        [ 75.0439,  -1.7031]], grad_fn=<AddBackward0>)\n"
          ]
        }
      ]
    },
    {
      "cell_type": "code",
      "source": [
        "loss = mse(preds, targets)\n",
        "print(loss)"
      ],
      "metadata": {
        "colab": {
          "base_uri": "https://localhost:8080/"
        },
        "id": "aWqyHiGI-stA",
        "outputId": "793cfa94-1964-4470-d319-75a69318e7b0"
      },
      "execution_count": 47,
      "outputs": [
        {
          "output_type": "stream",
          "name": "stdout",
          "text": [
            "tensor(3193.3567, grad_fn=<DivBackward0>)\n"
          ]
        }
      ]
    },
    {
      "cell_type": "code",
      "source": [
        "loss.backward()\n",
        "print(w.grad)\n",
        "print(b.grad)"
      ],
      "metadata": {
        "colab": {
          "base_uri": "https://localhost:8080/"
        },
        "id": "Rog-7X8ASoY3",
        "outputId": "fff1ea65-5ff7-4f09-e374-0dee1c2522f7"
      },
      "execution_count": 48,
      "outputs": [
        {
          "output_type": "stream",
          "name": "stdout",
          "text": [
            "tensor([[  246.2446,    93.0938,   -84.7466],\n",
            "        [-5459.9077, -6608.1646, -4167.6084]])\n",
            "tensor([  1.3513, -68.2096])\n"
          ]
        }
      ]
    },
    {
      "cell_type": "code",
      "source": [
        "with torch.no_grad():\n",
        "    w -= w.grad * 1e-5\n",
        "    b -= b.grad * 1e-5\n",
        "    w.grad.zero_()\n",
        "    b.grad.zero_()\n",
        "preds = model(inputs)\n",
        "loss = mse(preds, targets)\n",
        "print(loss)"
      ],
      "metadata": {
        "colab": {
          "base_uri": "https://localhost:8080/"
        },
        "id": "2qzuIhnI-spZ",
        "outputId": "ea03001b-fdb3-424d-89a4-db288316de15"
      },
      "execution_count": 49,
      "outputs": [
        {
          "output_type": "stream",
          "name": "stdout",
          "text": [
            "tensor(2365.1687, grad_fn=<DivBackward0>)\n"
          ]
        }
      ]
    },
    {
      "cell_type": "code",
      "source": [
        "for i in range(200):\n",
        "    preds = model(inputs)\n",
        "    loss = mse(preds, targets)\n",
        "    loss.backward()\n",
        "    with torch.no_grad():\n",
        "        w -= w.grad * 1e-5\n",
        "        b -= b.grad * 1e-5\n",
        "        w.grad.zero_()\n",
        "        b.grad.zero_()\n",
        "print(loss)"
      ],
      "metadata": {
        "colab": {
          "base_uri": "https://localhost:8080/"
        },
        "id": "TyANOlg4tQL3",
        "outputId": "8cfb46a4-b439-434b-c216-22f29d8b1ca4"
      },
      "execution_count": 93,
      "outputs": [
        {
          "output_type": "stream",
          "name": "stdout",
          "text": [
            "tensor(0.5125, grad_fn=<DivBackward0>)\n"
          ]
        }
      ]
    },
    {
      "cell_type": "code",
      "source": [
        "preds"
      ],
      "metadata": {
        "colab": {
          "base_uri": "https://localhost:8080/"
        },
        "id": "9g8YLGMGUK9Q",
        "outputId": "ba8d140c-0c1f-4441-e5cc-9a60023e4426"
      },
      "execution_count": 94,
      "outputs": [
        {
          "output_type": "execute_result",
          "data": {
            "text/plain": [
              "tensor([[ 57.3226,  70.0484],\n",
              "        [ 82.0944, 100.8141],\n",
              "        [118.6987, 133.0453],\n",
              "        [ 21.0706,  37.0608],\n",
              "        [101.9144, 119.0517]], grad_fn=<AddBackward0>)"
            ]
          },
          "metadata": {},
          "execution_count": 94
        }
      ]
    },
    {
      "cell_type": "code",
      "source": [
        "targets"
      ],
      "metadata": {
        "colab": {
          "base_uri": "https://localhost:8080/"
        },
        "id": "lJHkwXQUUONs",
        "outputId": "26fe5a7b-eeb9-4522-f1d9-19f65b00f44a"
      },
      "execution_count": 95,
      "outputs": [
        {
          "output_type": "execute_result",
          "data": {
            "text/plain": [
              "tensor([[ 56.,  70.],\n",
              "        [ 81., 101.],\n",
              "        [119., 133.],\n",
              "        [ 22.,  37.],\n",
              "        [103., 119.]])"
            ]
          },
          "metadata": {},
          "execution_count": 95
        }
      ]
    },
    {
      "cell_type": "code",
      "source": [
        "print(w)\n",
        "print(b)"
      ],
      "metadata": {
        "colab": {
          "base_uri": "https://localhost:8080/"
        },
        "id": "KwWzTIp1UQxA",
        "outputId": "9fec9456-8261-4d26-eda7-fdc41da1d8ce"
      },
      "execution_count": 96,
      "outputs": [
        {
          "output_type": "stream",
          "name": "stdout",
          "text": [
            "tensor([[-0.4069,  0.8490,  0.6794],\n",
            "        [-0.2895,  0.7952,  0.9179]], requires_grad=True)\n",
            "tensor([ 0.9301, -1.5713], requires_grad=True)\n"
          ]
        }
      ]
    },
    {
      "cell_type": "code",
      "source": [],
      "metadata": {
        "id": "xjCJYXlFVdGI"
      },
      "execution_count": null,
      "outputs": []
    }
  ]
}